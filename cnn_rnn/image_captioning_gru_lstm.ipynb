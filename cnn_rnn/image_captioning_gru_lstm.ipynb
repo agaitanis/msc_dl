{
  "nbformat": 4,
  "nbformat_minor": 0,
  "metadata": {
    "accelerator": "GPU",
    "colab": {
      "name": "image_captioning.ipynb",
      "provenance": [],
      "collapsed_sections": [],
      "toc_visible": true,
      "machine_shape": "hm"
    },
    "kernelspec": {
      "display_name": "Python 3",
      "language": "python",
      "name": "python3"
    },
    "language_info": {
      "codemirror_mode": {
        "name": "ipython",
        "version": 3
      },
      "file_extension": ".py",
      "mimetype": "text/x-python",
      "name": "python",
      "nbconvert_exporter": "python",
      "pygments_lexer": "ipython3",
      "version": "3.7.10"
    }
  },
  "cells": [
    {
      "cell_type": "markdown",
      "metadata": {
        "id": "qhi1TwH30nMp"
      },
      "source": [
        "# Image captioning"
      ]
    },
    {
      "cell_type": "markdown",
      "metadata": {
        "id": "lKblEtzYZ4Qz"
      },
      "source": [
        "Το θέμα της εργασίας είναι το image captioning, η παραγωγή δηλαδή κειμένου το οποίο περιγράφει μια εικόνα. Περιλαμβάνει ένα CNN και ένα RNN δίκτυο. Τελικός σκοπός της εργασίας είναι η εκπαίδευση και η αξιολόγηση διαφόρων προεκπαιδευμένων δικτύων CNN και δικτύων RNN."
      ]
    },
    {
      "cell_type": "markdown",
      "metadata": {
        "id": "IhjxSOLaBZZp"
      },
      "source": [
        "## 1 Preprocessing"
      ]
    },
    {
      "cell_type": "markdown",
      "metadata": {
        "id": "USeOjIH3bkSP"
      },
      "source": [
        "Στην εργασία χρησιμοποίηθηκε η έκδοση 2.4.1 της βιβλιοθήκης tensorflow."
      ]
    },
    {
      "cell_type": "code",
      "metadata": {
        "colab": {
          "base_uri": "https://localhost:8080/"
        },
        "id": "HO1GnzbzBjjj",
        "outputId": "d2d8c5cb-ac4a-40b8-f1fb-e9d57e4b3994"
      },
      "source": [
        "import tensorflow as tf\n",
        "\n",
        "print(f'tensorflow version: {tf.__version__}')"
      ],
      "execution_count": 1,
      "outputs": [
        {
          "output_type": "stream",
          "text": [
            "tensorflow version: 2.4.1\n"
          ],
          "name": "stdout"
        }
      ]
    },
    {
      "cell_type": "markdown",
      "metadata": {
        "id": "oajgy_x9iLQr"
      },
      "source": [
        "Δίνεται κάποιο seed στους random generators για να υπάρχει επαναληψιμότητα στα αποτελέσματα."
      ]
    },
    {
      "cell_type": "code",
      "metadata": {
        "id": "9r0LWMsoIljA"
      },
      "source": [
        "import numpy as np\n",
        "import random\n",
        "\n",
        "np.random.seed(0)\n",
        "random.seed(0)"
      ],
      "execution_count": 2,
      "outputs": []
    },
    {
      "cell_type": "markdown",
      "metadata": {
        "id": "5qjb9lK1cFBb"
      },
      "source": [
        "Το dataset που χρησιμοποιήθηκε είναι το Microsoft COCO dataset 2014 το οποίο αποτελείται από training, validation και test set, μεγέθους 82783, 40504 και 40775 αντίστοιχα. Κάθε δείγμα αποτελείται από μια εικόνα jpg και αντιστοιχίζεται σε μερικά captions μόνο στο training και στο validation set. Η αντιστοίχιση αυτή γίνεται στα αρχεία json."
      ]
    },
    {
      "cell_type": "code",
      "metadata": {
        "id": "tnOw5UKiDClD"
      },
      "source": [
        "import os\n",
        "\n",
        "def download_coco_zip_and_extract(url, folder, zip):\n",
        "    if not os.path.exists(folder):\n",
        "        f = tf.keras.utils.get_file(zip, cache_subdir=os.path.abspath('.'), origin=url, extract=True)\n",
        "        os.remove(f)"
      ],
      "execution_count": 3,
      "outputs": []
    },
    {
      "cell_type": "code",
      "metadata": {
        "colab": {
          "base_uri": "https://localhost:8080/"
        },
        "id": "ZO8FlKh4CWrG",
        "outputId": "035645f0-05b5-4572-edbf-20e77049b5ff"
      },
      "source": [
        "import time\n",
        "import json\n",
        "\n",
        "t0 = time.time()\n",
        "\n",
        "annotation_url = 'http://images.cocodataset.org/annotations/annotations_trainval2014.zip'\n",
        "annotation_folder = 'annotations'\n",
        "annotation_zip = 'annotations.zip'\n",
        "\n",
        "train_image_url = 'http://images.cocodataset.org/zips/train2014.zip'\n",
        "train_image_folder = 'train2014'\n",
        "train_image_zip = 'train2014.zip'\n",
        "train_annotation_file = os.path.join(annotation_folder, 'captions_train2014.json')\n",
        "\n",
        "val_image_url = 'http://images.cocodataset.org/zips/val2014.zip'\n",
        "val_image_folder = 'val2014'\n",
        "val_image_zip = 'val2014.zip'\n",
        "val_annotation_file = os.path.join(annotation_folder, 'captions_val2014.json')\n",
        "\n",
        "test_image_url = 'http://images.cocodataset.org/zips/test2014.zip'\n",
        "test_image_folder = 'test2014'\n",
        "test_image_zip = 'test2014.zip'\n",
        "\n",
        "download_coco_zip_and_extract(annotation_url, annotation_folder, annotation_zip)\n",
        "download_coco_zip_and_extract(train_image_url, train_image_folder, train_image_zip)\n",
        "download_coco_zip_and_extract(val_image_url, val_image_folder, val_image_zip)\n",
        "download_coco_zip_and_extract(test_image_url, test_image_folder, test_image_zip)\n",
        "\n",
        "with open(train_annotation_file, 'r') as f:\n",
        "    train_annotations = json.load(f)\n",
        "\n",
        "with open(val_annotation_file, 'r') as f:\n",
        "    val_annotations = json.load(f)\n",
        "\n",
        "print(f't = {(time.time() - t0)/60:.1f} min')"
      ],
      "execution_count": 4,
      "outputs": [
        {
          "output_type": "stream",
          "text": [
            "t = 0.0 min\n"
          ],
          "name": "stdout"
        }
      ]
    },
    {
      "cell_type": "markdown",
      "metadata": {
        "id": "0x8L5j3ejEIh"
      },
      "source": [
        "Γίνεται η αντιστοίχιση των εικόνων και των περιγραφών τους και αποθηκεύεται σε ένα dictionary. Η αρχή και το τέλος της κάθε φράσης σηματοδοτείται απο την κωδική λέξη <start\\> και <end\\> αντίστοιχα."
      ]
    },
    {
      "cell_type": "code",
      "metadata": {
        "id": "qPF16sCq9dFQ"
      },
      "source": [
        "import collections\n",
        "\n",
        "train_image_path_to_caption = collections.defaultdict(list)\n",
        "\n",
        "for val in train_annotations['annotations']:\n",
        "    caption = '<start> ' + val['caption'] + ' <end>'\n",
        "    image_path = os.path.join(train_image_folder, 'COCO_train2014_%012d.jpg' % (val['image_id']))\n",
        "    train_image_path_to_caption[image_path].append(caption)"
      ],
      "execution_count": 5,
      "outputs": []
    },
    {
      "cell_type": "markdown",
      "metadata": {
        "id": "0vxOjqUFh5rp"
      },
      "source": [
        "Από το training set επιλέγονται τυχαία 50000 εικόνες οι οποίες θα χρησιμοποιηθούν για την εκπαίδευση."
      ]
    },
    {
      "cell_type": "code",
      "metadata": {
        "id": "rpY6SpPXb45R"
      },
      "source": [
        "train_size = 50000"
      ],
      "execution_count": 6,
      "outputs": []
    },
    {
      "cell_type": "code",
      "metadata": {
        "id": "8yjcQDdn9c95",
        "colab": {
          "base_uri": "https://localhost:8080/"
        },
        "outputId": "54407211-a691-4adb-b143-03aaaaad69b9"
      },
      "source": [
        "train_image_paths = list(train_image_path_to_caption.keys())\n",
        "np.random.shuffle(train_image_paths)\n",
        "\n",
        "train_image_paths = train_image_paths[:train_size]\n",
        "print(f'len(train_image_paths) = {len(train_image_paths)}')"
      ],
      "execution_count": 7,
      "outputs": [
        {
          "output_type": "stream",
          "text": [
            "len(train_image_paths) = 50000\n"
          ],
          "name": "stdout"
        }
      ]
    },
    {
      "cell_type": "code",
      "metadata": {
        "id": "0r0huc9E9c1j",
        "colab": {
          "base_uri": "https://localhost:8080/"
        },
        "outputId": "9de65b96-eab7-42cc-a214-64f3d0c3a416"
      },
      "source": [
        "train_captions = []\n",
        "train_img_name_vector = []\n",
        "\n",
        "for image_path in train_image_paths:\n",
        "    caption_list = train_image_path_to_caption[image_path]\n",
        "    train_captions.extend(caption_list)\n",
        "    train_img_name_vector.extend([image_path] * len(caption_list))\n",
        "\n",
        "print(f'len(train_captions) = {len(train_captions)}')\n",
        "print(f'len(train_img_name_vector) = {len(train_img_name_vector)}')"
      ],
      "execution_count": 8,
      "outputs": [
        {
          "output_type": "stream",
          "text": [
            "len(train_captions) = 250119\n",
            "len(train_img_name_vector) = 250119\n"
          ],
          "name": "stdout"
        }
      ]
    },
    {
      "cell_type": "markdown",
      "metadata": {
        "id": "hMOlq5UYhB1Y"
      },
      "source": [
        "Παρακάτω φαίνεται μια εικόνα από το training set μαζί με την περιγραφή της."
      ]
    },
    {
      "cell_type": "code",
      "metadata": {
        "id": "w4ZX5gbi9cpU",
        "colab": {
          "base_uri": "https://localhost:8080/",
          "height": 435
        },
        "outputId": "1c8795da-1d45-44e3-e83c-0728bdcda7f9"
      },
      "source": [
        "from IPython.display import Image\n",
        "\n",
        "print(train_captions[0])\n",
        "image = Image(train_img_name_vector[0])\n",
        "display(image)"
      ],
      "execution_count": 9,
      "outputs": [
        {
          "output_type": "stream",
          "text": [
            "<start> Two apples with faced painted on them one impaled by a knife. <end>\n"
          ],
          "name": "stdout"
        },
        {
          "output_type": "display_data",
          "data": {
            "image/jpeg": "[encoded data removed]",
            "text/plain": [
              "<IPython.core.display.Image object>"
            ]
          },
          "metadata": {
            "tags": []
          }
        }
      ]
    },
    {
      "cell_type": "markdown",
      "metadata": {
        "id": "qxZ59knMjNUa"
      },
      "source": [
        "Οι περιγραφές των εικόνων συνθέτουν ένα κείμενο το οποίο δίνεται στον tf.keras.preprocessing.text.Tokenizer. Αυτός χρησιμοποιεί τις 5000 πιο συχνές λέξεις για να δημιουργήσει ένα λεξικό. Έτσι κάθε λέξη αντιστοιχίζεται σε έναν αριθμό ο οποίος μπορεί πλέον να δωθεί ως είσοδος στο νευρωνικό δίκτυο."
      ]
    },
    {
      "cell_type": "code",
      "metadata": {
        "id": "4d-XHrTKUMrC"
      },
      "source": [
        "def calc_max_length(tensor):\n",
        "    return max(len(t) for t in tensor)"
      ],
      "execution_count": 10,
      "outputs": []
    },
    {
      "cell_type": "code",
      "metadata": {
        "id": "sbwvTdIzTGeg",
        "colab": {
          "base_uri": "https://localhost:8080/"
        },
        "outputId": "d2ac164c-373a-4e66-948c-60e4dfe3a36a"
      },
      "source": [
        "top_k = 5000\n",
        "tokenizer = tf.keras.preprocessing.text.Tokenizer(num_words=top_k, oov_token=\"<unk>\",\n",
        "                                                  filters='!\"#$%&()*+,-./:;=?@[\\\\]^_`{|}~ \\t\\n')\n",
        "tokenizer.fit_on_texts(train_captions)\n",
        "\n",
        "tokenizer.word_index['<pad>'] = 0\n",
        "tokenizer.index_word[0] = '<pad>'\n",
        "\n",
        "train_seqs = tokenizer.texts_to_sequences(train_captions)\n",
        "cap_vector = tf.keras.preprocessing.sequence.pad_sequences(train_seqs, padding='post')\n",
        "\n",
        "max_length = calc_max_length(train_seqs)\n",
        "vocab_size = min(top_k, len(tokenizer.word_index))\n",
        "print(f'vocab_size = {vocab_size}')"
      ],
      "execution_count": 11,
      "outputs": [
        {
          "output_type": "stream",
          "text": [
            "vocab_size = 5000\n"
          ],
          "name": "stdout"
        }
      ]
    },
    {
      "cell_type": "markdown",
      "metadata": {
        "id": "O4kzKg_jkX6D"
      },
      "source": [
        "Το 80% του training set χρησιμοποιείται για την εκπαίδευση του μοντέλου ενώ το υπόλοιπο 20% για τον υπολογισμό του validation loss."
      ]
    },
    {
      "cell_type": "code",
      "metadata": {
        "colab": {
          "base_uri": "https://localhost:8080/"
        },
        "id": "YBj4WKDRTK8x",
        "outputId": "7f31e65a-4b23-4def-9e55-196c8e6ceeba"
      },
      "source": [
        "img_to_cap_vector = collections.defaultdict(list)\n",
        "\n",
        "for img, cap in zip(train_img_name_vector, cap_vector):\n",
        "    img_to_cap_vector[img].append(cap)\n",
        "\n",
        "img_keys = list(img_to_cap_vector.keys())\n",
        "random.shuffle(img_keys)\n",
        "\n",
        "slice_index = int(len(img_keys)*0.8)\n",
        "img_name_train_keys, img_name_val_keys = img_keys[:slice_index], img_keys[slice_index:]\n",
        "\n",
        "img_name_train = []\n",
        "cap_train = []\n",
        "\n",
        "for imgt in img_name_train_keys:\n",
        "    capt_len = len(img_to_cap_vector[imgt])\n",
        "    img_name_train.extend([imgt] * capt_len)\n",
        "    cap_train.extend(img_to_cap_vector[imgt])\n",
        "\n",
        "img_name_val = []\n",
        "cap_val = []\n",
        "\n",
        "for imgv in img_name_val_keys:\n",
        "    capv_len = len(img_to_cap_vector[imgv])\n",
        "    img_name_val.extend([imgv] * capv_len)\n",
        "    cap_val.extend(img_to_cap_vector[imgv])\n",
        "    \n",
        "print(f'len(img_name_train) = {len(img_name_train)}')\n",
        "print(f'len(cap_train) = {len(cap_train)}')\n",
        "print(f'len(img_name_val) = {len(img_name_val)}')\n",
        "print(f'len(cap_val) = {len(cap_val)}')"
      ],
      "execution_count": 12,
      "outputs": [
        {
          "output_type": "stream",
          "text": [
            "len(img_name_train) = 200092\n",
            "len(cap_train) = 200092\n",
            "len(img_name_val) = 50027\n",
            "len(cap_val) = 50027\n"
          ],
          "name": "stdout"
        }
      ]
    },
    {
      "cell_type": "markdown",
      "metadata": {
        "id": "BmDL6w4FI8T4"
      },
      "source": [
        "## 2 Training and Evaluation"
      ]
    },
    {
      "cell_type": "markdown",
      "metadata": {
        "id": "h1SOZoGM4Ihx"
      },
      "source": [
        "### 2.1 Features"
      ]
    },
    {
      "cell_type": "markdown",
      "metadata": {
        "id": "jx5GEy9Xs6O4"
      },
      "source": [
        "Κάθε εικόνα μετατρέπεται σε εικόνα μεγέθους 299x299 και έχει 3 κανάλια RGB. Περνάει πρώτα απο το προεκπαιδευμένο δίκτυο το οποίο έχει εκπαιδευθεί στην ImageNet. Από αυτό χρησιμοποιείται μόνο το κομμάτι με τα convolutional layers. Τα τελευταία dense layers δεν χρησιμοποιούνται γιατί περιέχουν την εξειδικευμένη γνώση για το classification στις κλάσεις της ImageNet. Κάθε εικόνα περνάει μια φορά μέσα από αυτό το δίκτυο και η έξοδος του αποθηκεύεται στον δίσκο. Αυτά τα αποθηκευμένα features είναι σταθερά για κάθε εικόνα, αφού δεν πρόκεται να ξαναεκπαιδεύσουμε το convolutional κομμάτι του μοντέλου. Έτσι κερδίζουμε σε χρόνο εκπαίδευσης."
      ]
    },
    {
      "cell_type": "code",
      "metadata": {
        "id": "DqRRHwcuNAog"
      },
      "source": [
        "input_shape = (299, 299, 3)"
      ],
      "execution_count": 13,
      "outputs": []
    },
    {
      "cell_type": "code",
      "metadata": {
        "id": "G1oVHZCT6q6B"
      },
      "source": [
        "BATCH_SIZE = 32\n",
        "BUFFER_SIZE = 256\n",
        "EMBEDDING_DIM = 256\n",
        "UNITS = 512"
      ],
      "execution_count": 14,
      "outputs": []
    },
    {
      "cell_type": "code",
      "metadata": {
        "id": "WLSMsoom6spR"
      },
      "source": [
        "all_data = {}\n",
        "\n",
        "def set_data(key, data, cnn_name, rnn_name=''):\n",
        "    all_data[cnn_name + rnn_name + key] = data\n",
        "\n",
        "def get_data(key, cnn_name, rnn_name=''):\n",
        "    return all_data[cnn_name + rnn_name + key]"
      ],
      "execution_count": 15,
      "outputs": []
    },
    {
      "cell_type": "code",
      "metadata": {
        "id": "YQs6G-2uLj9x"
      },
      "source": [
        "from tqdm import tqdm\n",
        "import shutil\n",
        "\n",
        "image_features_folder = 'features'\n",
        "model_name_to_data = {}\n",
        "\n",
        "def save_features(cnn_name, cnn_model, load_image_fun):\n",
        "    image_features_extract_model = tf.keras.Model(cnn_model.input, cnn_model.layers[-1].output)\n",
        "\n",
        "    if os.path.exists(image_features_folder):\n",
        "        shutil.rmtree(image_features_folder)\n",
        "\n",
        "    if not os.path.exists(image_features_folder):\n",
        "        os.mkdir(image_features_folder)\n",
        "\n",
        "        encode_train = sorted(set(train_img_name_vector))\n",
        "\n",
        "        image_dataset = tf.data.Dataset.from_tensor_slices(encode_train)\n",
        "        image_dataset = image_dataset.map(load_image_fun).batch(BATCH_SIZE)\n",
        "\n",
        "        for img, path in tqdm(image_dataset):\n",
        "            batch_features = image_features_extract_model(img)\n",
        "            batch_features = tf.reshape(batch_features, (batch_features.shape[0], -1, batch_features.shape[3]))\n",
        "\n",
        "            for bf, p in zip(batch_features, path):\n",
        "                path_of_feature = p.numpy().decode(\"utf-8\")\n",
        "                path_of_feature = os.path.join(image_features_folder, os.path.basename(path_of_feature))\n",
        "                np.save(path_of_feature, bf.numpy())\n",
        "\n",
        "    set_data('image_features_extract_model', image_features_extract_model, cnn_name)\n",
        "    set_data('load_image_fun', load_image_fun, cnn_name)"
      ],
      "execution_count": 16,
      "outputs": []
    },
    {
      "cell_type": "markdown",
      "metadata": {
        "id": "SdSkG1kl4EWf"
      },
      "source": [
        "### 2.2 Model"
      ]
    },
    {
      "cell_type": "markdown",
      "metadata": {
        "id": "ssIVP8EWxuSZ"
      },
      "source": [
        "Το μοντέλο αποτελείται απο δύο μέρη, τον CNN encoder και τον RNN decoder. Ο CNN encoder ρίχει τη διάσταση των αποθηκευμένων features σε 256. Ο RNN decoder χρησιμοποιεί ένα GRU ή ένα LSTM. Έχει ως είσοδο τα features του CNN και την προηγούμενη λέξη που είχε βγάλει ως έξοδο. Στην έξοδο, χρησιμοποιώντας softmax activation function, αποφασίζει ποια είναι η επόμενη λέξη της περιγραφής. Η αντιστοίχιση αριθμού σε λέξη γίνεται με τον tokenizer. Η φράση τελειώνει μόλις εμφανιστεί στην έξοδο η κωδική λέξη <end\\>."
      ]
    },
    {
      "cell_type": "code",
      "metadata": {
        "id": "l7EDGG9EAsG7"
      },
      "source": [
        "class BahdanauAttention(tf.keras.Model):\n",
        "    def __init__(self, units):\n",
        "        super(BahdanauAttention, self).__init__()\n",
        "        self.W1 = tf.keras.layers.Dense(units)\n",
        "        self.W2 = tf.keras.layers.Dense(units)\n",
        "        self.V = tf.keras.layers.Dense(1)\n",
        "\n",
        "    def call(self, features, hidden):\n",
        "        hidden_with_time_axis = tf.expand_dims(hidden, 1)\n",
        "        attention_hidden_layer = (tf.nn.tanh(self.W1(features) + self.W2(hidden_with_time_axis)))\n",
        "        score = self.V(attention_hidden_layer)\n",
        "        attention_weights = tf.nn.softmax(score, axis=1)\n",
        "        context_vector = attention_weights * features\n",
        "        context_vector = tf.reduce_sum(context_vector, axis=1)\n",
        "\n",
        "        return context_vector, attention_weights\n",
        "\n",
        "\n",
        "class CNN_Encoder(tf.keras.Model):\n",
        "    def __init__(self, embedding_dim):\n",
        "        super(CNN_Encoder, self).__init__()\n",
        "        self.fc = tf.keras.layers.Dense(embedding_dim)\n",
        "\n",
        "    def call(self, x):\n",
        "        x = self.fc(x)\n",
        "        x = tf.nn.relu(x)\n",
        "        return x\n",
        "\n",
        "\n",
        "class RNN_Decoder(tf.keras.Model):\n",
        "    def __init__(self, embedding_dim, units, vocab_size, rnn_model):\n",
        "        super(RNN_Decoder, self).__init__()\n",
        "        self.units = units\n",
        "        self.embedding = tf.keras.layers.Embedding(vocab_size, embedding_dim)\n",
        "        self.rnn_model = rnn_model\n",
        "        if rnn_model == 'GRU':\n",
        "            self.gru = tf.keras.layers.GRU(self.units, return_sequences=True, return_state=True,\n",
        "                                        recurrent_initializer='glorot_uniform')\n",
        "        elif rnn_model == 'LSTM':\n",
        "            self.lstm = tf.keras.layers.LSTM(self.units, return_sequences=True, return_state=True,\n",
        "                                             recurrent_initializer='glorot_uniform')\n",
        "        else:\n",
        "            raise Exception('Invalid rnn_model')\n",
        "        self.fc1 = tf.keras.layers.Dense(self.units)\n",
        "        self.fc2 = tf.keras.layers.Dense(vocab_size)\n",
        "\n",
        "        self.attention = BahdanauAttention(self.units)\n",
        "\n",
        "    def call(self, x, features, hidden):\n",
        "        context_vector, attention_weights = self.attention(features, hidden)\n",
        "        x = self.embedding(x)\n",
        "        x = tf.concat([tf.expand_dims(context_vector, 1), x], axis=-1)\n",
        "        if self.rnn_model == 'GRU':\n",
        "            output, state = self.gru(x)\n",
        "        elif self.rnn_model == 'LSTM':\n",
        "            output, state, _ = self.lstm(x)\n",
        "        x = self.fc1(output)\n",
        "        x = tf.reshape(x, (-1, x.shape[2]))\n",
        "        x = self.fc2(x)\n",
        "        return x, state, attention_weights\n",
        "\n",
        "    def reset_state(self, batch_size):\n",
        "        return tf.zeros((batch_size, self.units))"
      ],
      "execution_count": 17,
      "outputs": []
    },
    {
      "cell_type": "markdown",
      "metadata": {
        "id": "siO-43U13-0l"
      },
      "source": [
        "### 2.3 Training"
      ]
    },
    {
      "cell_type": "markdown",
      "metadata": {
        "id": "VAmK8WmR4tBK"
      },
      "source": [
        "Η εκπαίδευση του μοντέλου γίνεται για 10 εποχές. Με το που τελειώνει η εκπαίδευση το μοντέλο επαναφέρεται στην εποχή που είχε το μικρότερο validation loss. Έτσι αποφεύγεται η υπερπροσαρμογή."
      ]
    },
    {
      "cell_type": "code",
      "metadata": {
        "id": "unfCn9CmAt3T"
      },
      "source": [
        "def loss_function(real, pred, loss_object):\n",
        "    mask = tf.math.logical_not(tf.math.equal(real, 0))\n",
        "    loss_ = loss_object(real, pred)\n",
        "    mask = tf.cast(mask, dtype=loss_.dtype)\n",
        "    loss_ *= mask\n",
        "    return tf.reduce_mean(loss_)\n",
        "\n",
        "def train_step(img_tensor, target, encoder, decoder, optimizer, loss_object):\n",
        "    loss = 0\n",
        "    hidden = decoder.reset_state(batch_size=target.shape[0])\n",
        "\n",
        "    dec_input = tf.expand_dims([tokenizer.word_index['<start>']] * target.shape[0], 1)\n",
        "\n",
        "    with tf.GradientTape() as tape:\n",
        "        features = encoder(img_tensor)\n",
        "        for i in range(1, target.shape[1]):\n",
        "            predictions, hidden, _ = decoder(dec_input, features, hidden)\n",
        "            loss += loss_function(target[:, i], predictions, loss_object)\n",
        "            dec_input = tf.expand_dims(target[:, i], 1)\n",
        "            \n",
        "    trainable_variables = encoder.trainable_variables + decoder.trainable_variables\n",
        "    gradients = tape.gradient(loss, trainable_variables)\n",
        "    optimizer.apply_gradients(zip(gradients, trainable_variables))\n",
        "\n",
        "    return (loss / int(target.shape[1]))\n",
        "\n",
        "def eval_step(img_tensor, target, encoder, decoder, optimizer, loss_object):\n",
        "    loss = 0\n",
        "    hidden = decoder.reset_state(batch_size=target.shape[0])\n",
        "\n",
        "    dec_input = tf.expand_dims([tokenizer.word_index['<start>']] * target.shape[0], 1)\n",
        "\n",
        "    features = encoder(img_tensor)\n",
        "    for i in range(1, target.shape[1]):\n",
        "        predictions, hidden, _ = decoder(dec_input, features, hidden)\n",
        "        loss += loss_function(target[:, i], predictions, loss_object)\n",
        "        dec_input = tf.expand_dims(target[:, i], 1)\n",
        "            \n",
        "    return (loss / int(target.shape[1]))\n",
        "\n",
        "def map_func(img_name, cap):\n",
        "    filename = img_name.decode('utf-8') + '.npy'\n",
        "    filename = os.path.join(image_features_folder, os.path.basename(filename))\n",
        "    img_tensor = np.load(filename)\n",
        "    return img_tensor, cap"
      ],
      "execution_count": 18,
      "outputs": []
    },
    {
      "cell_type": "code",
      "metadata": {
        "id": "r-NHns8kBBSO"
      },
      "source": [
        "dataset = tf.data.Dataset.from_tensor_slices((img_name_train, cap_train))\n",
        "dataset = dataset.map(lambda item1, item2: tf.numpy_function(map_func, [item1, item2], [tf.float32, tf.int32]))\n",
        "dataset = dataset.shuffle(BUFFER_SIZE).batch(BATCH_SIZE)\n",
        "dataset = dataset.prefetch(buffer_size=BUFFER_SIZE)\n",
        "\n",
        "val_dataset = tf.data.Dataset.from_tensor_slices((img_name_val, cap_val))\n",
        "val_dataset = val_dataset.map(lambda item1, item2: tf.numpy_function(map_func, [item1, item2], [tf.float32, tf.int32]))\n",
        "val_dataset = val_dataset.batch(BATCH_SIZE)\n",
        "val_dataset = val_dataset.prefetch(buffer_size=BUFFER_SIZE)"
      ],
      "execution_count": 19,
      "outputs": []
    },
    {
      "cell_type": "code",
      "metadata": {
        "colab": {
          "base_uri": "https://localhost:8080/"
        },
        "id": "5hh5QAdSZpGL",
        "outputId": "1ed56aa4-4909-4411-d3d6-21f3495b0ee8"
      },
      "source": [
        "from google.colab import drive\n",
        "drive.mount('/content/drive')"
      ],
      "execution_count": 20,
      "outputs": [
        {
          "output_type": "stream",
          "text": [
            "Drive already mounted at /content/drive; to attempt to forcibly remount, call drive.mount(\"/content/drive\", force_remount=True).\n"
          ],
          "name": "stdout"
        }
      ]
    },
    {
      "cell_type": "code",
      "metadata": {
        "id": "oi9PvLv9ZabY"
      },
      "source": [
        "import pickle\n",
        "\n",
        "results = []\n",
        "results_pickle = '/content/drive/MyDrive/results.pkl'\n",
        "\n",
        "def new_results():\n",
        "    results.append([])\n",
        "\n",
        "def add_to_results(key, val):\n",
        "    results[-1].append((key, val))\n",
        "\n",
        "def save_results():\n",
        "    with open(results_pickle, 'wb') as pickle_file:\n",
        "        pickle.dump(results, pickle_file)\n",
        "\n",
        "def load_results():\n",
        "    with open(results_pickle, 'rb') as pickle_file:\n",
        "        global results\n",
        "        results = pickle.load(pickle_file)\n",
        "\n",
        "# load_results()\n",
        "\n",
        "for res in results:\n",
        "    for key, val in res:\n",
        "        print(f'{key}: {val}')\n",
        "    print()"
      ],
      "execution_count": 21,
      "outputs": []
    },
    {
      "cell_type": "code",
      "metadata": {
        "id": "bqDDDsUjJmWO"
      },
      "source": [
        "import matplotlib.pyplot as plt\n",
        "\n",
        "def train_model(cnn_name, rnn_name):\n",
        "    t0 = time.time()\n",
        "\n",
        "    encoder = CNN_Encoder(EMBEDDING_DIM)\n",
        "    decoder = RNN_Decoder(EMBEDDING_DIM, UNITS, vocab_size, rnn_name)\n",
        "\n",
        "    optimizer = tf.keras.optimizers.Adam()\n",
        "    loss_object = tf.keras.losses.SparseCategoricalCrossentropy(from_logits=True, reduction='none')\n",
        "\n",
        "    EPOCHS = 10\n",
        "    epochs = range(1, EPOCHS+1)\n",
        "    loss_plot = []\n",
        "    v_loss_plot = []\n",
        "    best_v_loss = None\n",
        "    best_epoch = None\n",
        "    checkpoints_folder = 'checkpoints'\n",
        "\n",
        "    if os.path.exists(checkpoints_folder):\n",
        "        shutil.rmtree(checkpoints_folder)\n",
        "\n",
        "    ckpt = tf.train.Checkpoint(encoder=encoder, decoder=decoder, optimizer=optimizer)\n",
        "    ckpt_manager = tf.train.CheckpointManager(ckpt, checkpoints_folder, max_to_keep=None)\n",
        "\n",
        "    train_step_fun = tf.function(train_step)\n",
        "    eval_step_fun = tf.function(eval_step)\n",
        "\n",
        "    for epoch in epochs:\n",
        "        t1 = time.time()\n",
        "        total_loss = 0\n",
        "        total_v_loss = 0\n",
        "\n",
        "        for (batch, (img_tensor, target)) in enumerate(dataset):\n",
        "            total_loss += train_step_fun(img_tensor, target, encoder, decoder, optimizer, loss_object)\n",
        "        avg_loss = total_loss / len(dataset)\n",
        "        loss_plot.append(avg_loss)\n",
        "        \n",
        "        for (batch, (img_tensor, target)) in enumerate(val_dataset):\n",
        "            total_v_loss += eval_step_fun(img_tensor, target, encoder, decoder, optimizer, loss_object)\n",
        "        avg_v_loss = total_v_loss / len(val_dataset)\n",
        "        v_loss_plot.append(avg_v_loss)\n",
        "        \n",
        "        if best_v_loss is None or avg_v_loss < best_v_loss:\n",
        "            best_v_loss = avg_v_loss\n",
        "            best_epoch = epoch\n",
        "            ckpt_manager.save(checkpoint_number=epoch+1)\n",
        "        \n",
        "        print(f'Epoch {epoch:02d}: loss = {avg_loss:.4f}, val_loss = {avg_v_loss:.4f}, t = {(time.time() - t1)/60:.1f} min')\n",
        "\n",
        "    t = time.time() - t0\n",
        "    print(f'Total training time: {t/60:.1f} min')\n",
        "\n",
        "    print(f'Restoring model to epoch: {best_epoch}')\n",
        "    ckpt.restore(ckpt_manager.latest_checkpoint)\n",
        "\n",
        "    new_results()\n",
        "    add_to_results('Model', f'{cnn_name} + {rnn_name}')\n",
        "    add_to_results('Training time', t)\n",
        "\n",
        "    set_data('encoder', encoder, cnn_name, rnn_name)\n",
        "    set_data('decoder', decoder, cnn_name, rnn_name)\n",
        "\n",
        "    plt.plot(epochs, loss_plot, label='Training loss')\n",
        "    plt.plot(epochs, v_loss_plot, label='Validation loss')\n",
        "    plt.xlabel('Epochs')\n",
        "    plt.ylabel('Loss')\n",
        "    plt.title('Loss Plot')\n",
        "    plt.legend()\n",
        "    plt.show()"
      ],
      "execution_count": 22,
      "outputs": []
    },
    {
      "cell_type": "markdown",
      "metadata": {
        "id": "EFRiaxIL31yf"
      },
      "source": [
        "### 2.4 Evaluation"
      ]
    },
    {
      "cell_type": "markdown",
      "metadata": {
        "id": "JYHnXVNj2F7Z"
      },
      "source": [
        "Γίνεται αξιολόγηση του μοντέλου πάνω σε 5000 εικόνες του validation set που δεν έχουν χρησιμοποιηθεί καθόλου στην εκπαίδευση. Η αξιολόγηση γίνεται χρησιμοποιώντας τις μετρικές BLEU, Meteor, Rouge-L, CIDEr και SPICE χρησιμοποιώντας την βιβλιοθήκη pycocoevalcap. Επίσης εμφανίζεται μια τυχαία εικόνα από το validation set, τα true caption της, το predicted caption και το attention plot, δηλαδη τα μέρη της εικόνας τα οποία επηρέασαν περισσότερο το μόντελο για να αποφασίσει την κάθε λέξη της φράσης. Το ίδιο γίνεται με μια τυχαία εικόνα απο το test set και με μια συγκεκριμένη εικόνα ενός surfer."
      ]
    },
    {
      "cell_type": "code",
      "metadata": {
        "id": "yaUFV-0bcP2z"
      },
      "source": [
        "val_size = 5000"
      ],
      "execution_count": 23,
      "outputs": []
    },
    {
      "cell_type": "code",
      "metadata": {
        "id": "7Js1bw1QX_aX"
      },
      "source": [
        "val_image_id_to_caption = collections.defaultdict(list)\n",
        "\n",
        "for val in val_annotations['annotations']:\n",
        "    image_id = val['image_id']\n",
        "    caption = val['caption']\n",
        "    val_image_id_to_caption[image_id].append(caption)\n",
        "    \n",
        "val_image_ids = sorted(list(val_image_id_to_caption.keys()))\n",
        "np.random.shuffle(val_image_ids)\n",
        "val_image_ids = val_image_ids[:val_size]"
      ],
      "execution_count": 24,
      "outputs": []
    },
    {
      "cell_type": "code",
      "metadata": {
        "colab": {
          "base_uri": "https://localhost:8080/"
        },
        "id": "ReuZnUsVISFS",
        "outputId": "771729bf-1968-4497-f5f3-6f1c2490e0cf"
      },
      "source": [
        "!pip install pycocoevalcap"
      ],
      "execution_count": 25,
      "outputs": [
        {
          "output_type": "stream",
          "text": [
            "Requirement already satisfied: pycocoevalcap in /usr/local/lib/python3.7/dist-packages (1.2)\n",
            "Requirement already satisfied: pycocotools>=2.0.2 in /usr/local/lib/python3.7/dist-packages (from pycocoevalcap) (2.0.2)\n",
            "Requirement already satisfied: cython>=0.27.3 in /usr/local/lib/python3.7/dist-packages (from pycocotools>=2.0.2->pycocoevalcap) (0.29.23)\n",
            "Requirement already satisfied: matplotlib>=2.1.0 in /usr/local/lib/python3.7/dist-packages (from pycocotools>=2.0.2->pycocoevalcap) (3.2.2)\n",
            "Requirement already satisfied: setuptools>=18.0 in /usr/local/lib/python3.7/dist-packages (from pycocotools>=2.0.2->pycocoevalcap) (56.1.0)\n",
            "Requirement already satisfied: kiwisolver>=1.0.1 in /usr/local/lib/python3.7/dist-packages (from matplotlib>=2.1.0->pycocotools>=2.0.2->pycocoevalcap) (1.3.1)\n",
            "Requirement already satisfied: pyparsing!=2.0.4,!=2.1.2,!=2.1.6,>=2.0.1 in /usr/local/lib/python3.7/dist-packages (from matplotlib>=2.1.0->pycocotools>=2.0.2->pycocoevalcap) (2.4.7)\n",
            "Requirement already satisfied: cycler>=0.10 in /usr/local/lib/python3.7/dist-packages (from matplotlib>=2.1.0->pycocotools>=2.0.2->pycocoevalcap) (0.10.0)\n",
            "Requirement already satisfied: python-dateutil>=2.1 in /usr/local/lib/python3.7/dist-packages (from matplotlib>=2.1.0->pycocotools>=2.0.2->pycocoevalcap) (2.8.1)\n",
            "Requirement already satisfied: numpy>=1.11 in /usr/local/lib/python3.7/dist-packages (from matplotlib>=2.1.0->pycocotools>=2.0.2->pycocoevalcap) (1.19.5)\n",
            "Requirement already satisfied: six in /usr/local/lib/python3.7/dist-packages (from cycler>=0.10->matplotlib>=2.1.0->pycocotools>=2.0.2->pycocoevalcap) (1.15.0)\n"
          ],
          "name": "stdout"
        }
      ]
    },
    {
      "cell_type": "code",
      "metadata": {
        "id": "ejEKKxJXQ-P7"
      },
      "source": [
        "from pycocotools.coco import COCO\n",
        "from pycocoevalcap.eval import COCOEvalCap\n",
        "\n",
        "def predict_image_caption(image_path, image_features_extract_model,\n",
        "                          load_image_fun, encoder, decoder):\n",
        "    temp_input = tf.expand_dims(load_image_fun(image_path)[0], 0)\n",
        "    img_tensor_val = image_features_extract_model(temp_input)\n",
        "    img_tensor_val = tf.reshape(img_tensor_val, (img_tensor_val.shape[0], -1, img_tensor_val.shape[3]))\n",
        "    features = encoder(img_tensor_val)\n",
        "\n",
        "    result = []\n",
        "    hidden = decoder.reset_state(batch_size=1)\n",
        "    dec_input = tf.expand_dims([tokenizer.word_index['<start>']], 0)\n",
        "    for i in range(max_length):\n",
        "        predictions, hidden, _ = decoder(dec_input, features, hidden)\n",
        "        predicted_id = tf.random.categorical(predictions, 1)[0][0].numpy()\n",
        "        result.append(tokenizer.index_word[predicted_id])\n",
        "        if tokenizer.index_word[predicted_id] == '<end>':\n",
        "            break\n",
        "        dec_input = tf.expand_dims([predicted_id], 0)\n",
        "    result = ' '.join(result)\n",
        "\n",
        "    return result\n",
        "\n",
        "def create_results_file(cnn_name, rnn_name):\n",
        "    image_features_extract_model = get_data('image_features_extract_model', cnn_name)\n",
        "    load_image_fun = get_data('load_image_fun', cnn_name)\n",
        "    encoder = get_data('encoder', cnn_name, rnn_name)\n",
        "    decoder = get_data('decoder', cnn_name, rnn_name)\n",
        "    json_data = []\n",
        "\n",
        "    for image_id in tqdm(val_image_ids):\n",
        "        image_path = os.path.join(val_image_folder, 'COCO_val2014_%012d.jpg' % (image_id))\n",
        "        result = predict_image_caption(image_path, image_features_extract_model,\n",
        "                                       load_image_fun, encoder, decoder)\n",
        "        json_data.append({'image_id': image_id, 'caption': result})\n",
        "\n",
        "    results_file = 'captions_val2014_results.json'\n",
        "    with open(results_file, 'w') as outfile:\n",
        "        json.dump(json_data, outfile)\n",
        "    \n",
        "    return results_file\n",
        "\n",
        "def coco_eval_results_file(results_file):\n",
        "    coco = COCO(val_annotation_file)\n",
        "    coco_result = coco.loadRes(results_file)\n",
        "\n",
        "    coco_eval = COCOEvalCap(coco, coco_result)\n",
        "    coco_eval.params['image_id'] = coco_result.getImgIds()\n",
        "    coco_eval.evaluate()\n",
        "\n",
        "    print()\n",
        "    for metric, score in coco_eval.eval.items():\n",
        "        add_to_results(metric, score)\n",
        "        print(f'{metric}: {score:.4f}')\n",
        "\n",
        "def evaluate_model_on_validation_set(cnn_name, rnn_name):\n",
        "    results_file = create_results_file(cnn_name, rnn_name)\n",
        "    coco_eval_results_file(results_file)"
      ],
      "execution_count": 26,
      "outputs": []
    },
    {
      "cell_type": "code",
      "metadata": {
        "id": "HCjtTaUfiq6K"
      },
      "source": [
        "import PIL\n",
        "\n",
        "def plot_attention(image, result, attention_plot):\n",
        "    temp_image = np.array(PIL.Image.open(image))\n",
        "\n",
        "    fig = plt.figure(figsize=(15, 15))\n",
        "\n",
        "    len_result = len(result)\n",
        "    for i in range(len_result):\n",
        "        temp_att = np.resize(attention_plot[i], (8, 8))\n",
        "        grid_size = max(np.ceil(len_result/2), 2)\n",
        "        ax = fig.add_subplot(grid_size, grid_size, i+1)\n",
        "        ax.set_title(result[i])\n",
        "        img = ax.imshow(temp_image)\n",
        "        ax.imshow(temp_att, cmap='gray', alpha=0.6, extent=img.get_extent())\n",
        "\n",
        "    plt.tight_layout()\n",
        "    plt.show()\n",
        "\n",
        "def evaluate_image(image, cnn_name, rnn_name):\n",
        "    image_features_extract_model = get_data('image_features_extract_model', cnn_name)\n",
        "    load_image_fun = get_data('load_image_fun', cnn_name)\n",
        "    encoder = get_data('encoder', cnn_name, rnn_name)\n",
        "    decoder = get_data('decoder', cnn_name, rnn_name)\n",
        "\n",
        "    output = image_features_extract_model.layers[-1].output\n",
        "    attention_features_shape = output.shape[1] * output.shape[2]\n",
        "    attention_plot = np.zeros((max_length, attention_features_shape))\n",
        "\n",
        "    hidden = decoder.reset_state(batch_size=1)\n",
        "\n",
        "    temp_input = tf.expand_dims(load_image_fun(image)[0], 0)\n",
        "    img_tensor_val = image_features_extract_model(temp_input)\n",
        "    img_tensor_val = tf.reshape(img_tensor_val, (img_tensor_val.shape[0], -1, img_tensor_val.shape[3]))\n",
        "\n",
        "    features = encoder(img_tensor_val)\n",
        "\n",
        "    dec_input = tf.expand_dims([tokenizer.word_index['<start>']], 0)\n",
        "    result = []\n",
        "\n",
        "    for i in range(max_length):\n",
        "        predictions, hidden, attention_weights = decoder(dec_input, features, hidden)\n",
        "        attention_plot[i] = tf.reshape(attention_weights, (-1, )).numpy()\n",
        "        predicted_id = tf.random.categorical(predictions, 1)[0][0].numpy()\n",
        "        result.append(tokenizer.index_word[predicted_id])\n",
        "\n",
        "        if tokenizer.index_word[predicted_id] == '<end>':\n",
        "            return result, attention_plot\n",
        "\n",
        "        dec_input = tf.expand_dims([predicted_id], 0)\n",
        "\n",
        "    attention_plot = attention_plot[:len(result), :]\n",
        "    return result, attention_plot\n",
        "\n",
        "rid = np.random.randint(0, len(val_image_ids))\n",
        "val_image_id = val_image_ids[rid]\n",
        "\n",
        "def evaluate_model_on_validation_image(cnn_name, rnn_name):\n",
        "    image_path = os.path.join(val_image_folder, 'COCO_val2014_%012d.jpg' % (val_image_id))\n",
        "    real_captions = val_image_id_to_caption[val_image_id]\n",
        "    result, attention_plot = evaluate_image(image_path, cnn_name, rnn_name)\n",
        "\n",
        "    for real_caption in real_captions:\n",
        "        print('True caption:', real_caption)\n",
        "    print('Predicted caption:', ' '.join(result))\n",
        "    plot_attention(image_path, result, attention_plot)\n",
        "    display(Image(image_path))"
      ],
      "execution_count": 27,
      "outputs": []
    },
    {
      "cell_type": "code",
      "metadata": {
        "id": "XbCz70XYixjS"
      },
      "source": [
        "test_image_paths = []\n",
        "\n",
        "for image_path in os.listdir(test_image_folder):\n",
        "    image_path = os.path.join(test_image_folder, image_path)\n",
        "    test_image_paths.append(image_path)"
      ],
      "execution_count": 28,
      "outputs": []
    },
    {
      "cell_type": "code",
      "metadata": {
        "id": "UxB_1xNuRDXs"
      },
      "source": [
        "rid = np.random.randint(0, len(test_image_paths))\n",
        "test_image_path = test_image_paths[rid]\n",
        "\n",
        "def evaluate_model_on_test_image(cnn_name, rnn_name):\n",
        "    result, attention_plot = evaluate_image(test_image_path, cnn_name, rnn_name)\n",
        "\n",
        "    print('Predicted caption:', ' '.join(result))\n",
        "    plot_attention(image_path, result, attention_plot)\n",
        "    display(Image(image_path))\n",
        "\n",
        "def evaluate_model_on_test_set(cnn_name, rnn_name):\n",
        "    evaluate_model_on_test_image(cnn_name, rnn_name)"
      ],
      "execution_count": 29,
      "outputs": []
    },
    {
      "cell_type": "code",
      "metadata": {
        "id": "6j7zQ2OXh2fz"
      },
      "source": [
        "def evaluate_model_on_surf_image(cnn_name, rnn_name):\n",
        "    image_url = 'https://tensorflow.org/images/surf.jpg'\n",
        "    image_extension = image_url[-4:]\n",
        "    image_path = tf.keras.utils.get_file('image' + image_extension, origin=image_url)\n",
        "\n",
        "    t0 = time.time()\n",
        "    result, attention_plot = evaluate_image(image_path, cnn_name, rnn_name)\n",
        "    t = time.time() - t0\n",
        "    add_to_results('Prediction time', t)\n",
        "    save_results()\n",
        "    print('Predicted caption:', ' '.join(result))\n",
        "    plot_attention(image_path, result, attention_plot)\n",
        "    display(Image(image_path))"
      ],
      "execution_count": 30,
      "outputs": []
    },
    {
      "cell_type": "markdown",
      "metadata": {
        "id": "9FD7XFMT46dN"
      },
      "source": [
        "## 3 Models"
      ]
    },
    {
      "cell_type": "markdown",
      "metadata": {
        "id": "3A31HpAH90ba"
      },
      "source": [
        "Παρακάτω γίνεται εκπαίδευση και αξιολόγηση του μοντέλου χρησιμοποιώντας κάθε φορά διαφορετικό προεκπαιδευμένο CNN."
      ]
    },
    {
      "cell_type": "markdown",
      "metadata": {
        "id": "-5joZ7MVqPl0"
      },
      "source": [
        "### 3.1 VGG16"
      ]
    },
    {
      "cell_type": "code",
      "metadata": {
        "id": "4b9t7-Z4qPmL"
      },
      "source": [
        "def load_image_VGG16(image_path):\n",
        "    img = tf.io.read_file(image_path)\n",
        "    img = tf.image.decode_jpeg(img, channels=3)\n",
        "    img = tf.image.resize(img, input_shape[:2])\n",
        "    img = tf.keras.applications.vgg16.preprocess_input(img)\n",
        "    return img, image_path"
      ],
      "execution_count": 31,
      "outputs": []
    },
    {
      "cell_type": "code",
      "metadata": {
        "colab": {
          "base_uri": "https://localhost:8080/"
        },
        "id": "27MTIUKSqPmM",
        "outputId": "4e78e251-8af9-4b35-fbf4-3e2b4be5ebe2"
      },
      "source": [
        "save_features('VGG16', tf.keras.applications.VGG16(include_top=False, input_shape=input_shape),\n",
        "            load_image_VGG16)"
      ],
      "execution_count": null,
      "outputs": [
        {
          "output_type": "stream",
          "text": [
            "  5%|▍         | 75/1563 [00:30<10:39,  2.33it/s]"
          ],
          "name": "stderr"
        }
      ]
    },
    {
      "cell_type": "markdown",
      "metadata": {
        "id": "siIGCDrtwiNw"
      },
      "source": [
        "#### 3.1.1 GRU"
      ]
    },
    {
      "cell_type": "code",
      "metadata": {
        "id": "un6UieOWqPmO"
      },
      "source": [
        "train_model('VGG16', 'GRU')"
      ],
      "execution_count": null,
      "outputs": []
    },
    {
      "cell_type": "code",
      "metadata": {
        "id": "S-PUqAVsqPmP"
      },
      "source": [
        "evaluate_model_on_validation_set('VGG16', 'GRU')"
      ],
      "execution_count": null,
      "outputs": []
    },
    {
      "cell_type": "code",
      "metadata": {
        "id": "8pq68IkjqPmP"
      },
      "source": [
        "evaluate_model_on_validation_image('VGG16', 'GRU')"
      ],
      "execution_count": null,
      "outputs": []
    },
    {
      "cell_type": "code",
      "metadata": {
        "id": "zS865fnRqPmQ"
      },
      "source": [
        "evaluate_model_on_test_image('VGG16', 'GRU')"
      ],
      "execution_count": null,
      "outputs": []
    },
    {
      "cell_type": "code",
      "metadata": {
        "id": "t1jJRwkoqPmQ"
      },
      "source": [
        "evaluate_model_on_surf_image('VGG16', 'GRU')"
      ],
      "execution_count": null,
      "outputs": []
    },
    {
      "cell_type": "markdown",
      "metadata": {
        "id": "05WtkqsYwmIE"
      },
      "source": [
        "#### 3.1.2 LSTM"
      ]
    },
    {
      "cell_type": "code",
      "metadata": {
        "id": "rs7W-EeKwmIF"
      },
      "source": [
        "train_model('VGG16', 'LSTM')"
      ],
      "execution_count": null,
      "outputs": []
    },
    {
      "cell_type": "code",
      "metadata": {
        "id": "FYW02gGkwmIG"
      },
      "source": [
        "evaluate_model_on_validation_set('VGG16', 'LSTM')"
      ],
      "execution_count": null,
      "outputs": []
    },
    {
      "cell_type": "code",
      "metadata": {
        "id": "_Y7QULXowmIG"
      },
      "source": [
        "evaluate_model_on_validation_image('VGG16', 'LSTM')"
      ],
      "execution_count": null,
      "outputs": []
    },
    {
      "cell_type": "code",
      "metadata": {
        "id": "LxRC60KwwmIH"
      },
      "source": [
        "evaluate_model_on_test_image('VGG16', 'LSTM')"
      ],
      "execution_count": null,
      "outputs": []
    },
    {
      "cell_type": "code",
      "metadata": {
        "id": "h0UN0loswmII"
      },
      "source": [
        "evaluate_model_on_surf_image('VGG16', 'LSTM')"
      ],
      "execution_count": null,
      "outputs": []
    },
    {
      "cell_type": "markdown",
      "metadata": {
        "id": "_ECtF6UXPR3N"
      },
      "source": [
        "### 3.2 MobileNetV2"
      ]
    },
    {
      "cell_type": "code",
      "metadata": {
        "id": "3AHNai_Cj7AP"
      },
      "source": [
        "def load_image_MobileNetV2(image_path):\n",
        "    img = tf.io.read_file(image_path)\n",
        "    img = tf.image.decode_jpeg(img, channels=3)\n",
        "    img = tf.image.resize(img, input_shape[:2])\n",
        "    img = tf.keras.applications.mobilenet_v2.preprocess_input(img)\n",
        "    return img, image_path"
      ],
      "execution_count": null,
      "outputs": []
    },
    {
      "cell_type": "code",
      "metadata": {
        "id": "GdJ7_HlRT3Mv"
      },
      "source": [
        "save_features('MobileNetV2', tf.keras.applications.MobileNetV2(include_top=False, input_shape=input_shape),\n",
        "            load_image_MobileNetV2)"
      ],
      "execution_count": null,
      "outputs": []
    },
    {
      "cell_type": "markdown",
      "metadata": {
        "id": "_27UrgeWv-N5"
      },
      "source": [
        "#### 3.3.1 GRU"
      ]
    },
    {
      "cell_type": "code",
      "metadata": {
        "id": "YqdCXo5JykfG"
      },
      "source": [
        "train_model('MobileNetV2', 'GRU')"
      ],
      "execution_count": null,
      "outputs": []
    },
    {
      "cell_type": "code",
      "metadata": {
        "id": "q85CrmEMPKMq"
      },
      "source": [
        "evaluate_model_on_validation_set('MobileNetV2', 'GRU')"
      ],
      "execution_count": null,
      "outputs": []
    },
    {
      "cell_type": "code",
      "metadata": {
        "id": "dQ3-GrEUPLhz"
      },
      "source": [
        "evaluate_model_on_validation_image('MobileNetV2', 'GRU')"
      ],
      "execution_count": null,
      "outputs": []
    },
    {
      "cell_type": "code",
      "metadata": {
        "id": "HhDWFqfXi5zk"
      },
      "source": [
        "evaluate_model_on_test_image('MobileNetV2', 'GRU')"
      ],
      "execution_count": null,
      "outputs": []
    },
    {
      "cell_type": "code",
      "metadata": {
        "id": "XVE_EfbthZId"
      },
      "source": [
        "evaluate_model_on_surf_image('MobileNetV2', 'GRU')"
      ],
      "execution_count": null,
      "outputs": []
    },
    {
      "cell_type": "markdown",
      "metadata": {
        "id": "AJ7bzAX1wGHX"
      },
      "source": [
        "#### 3.3.2 LSTM"
      ]
    },
    {
      "cell_type": "code",
      "metadata": {
        "id": "JMCm7dLvwGHZ"
      },
      "source": [
        "train_model('MobileNetV2', 'LSTM')"
      ],
      "execution_count": null,
      "outputs": []
    },
    {
      "cell_type": "code",
      "metadata": {
        "id": "JBN7h_w0wGHa"
      },
      "source": [
        "evaluate_model_on_validation_set('MobileNetV2', 'LSTM')"
      ],
      "execution_count": null,
      "outputs": []
    },
    {
      "cell_type": "code",
      "metadata": {
        "id": "zuj7kmbVwGHb"
      },
      "source": [
        "evaluate_model_on_validation_image('MobileNetV2', 'LSTM')"
      ],
      "execution_count": null,
      "outputs": []
    },
    {
      "cell_type": "code",
      "metadata": {
        "id": "H7UAUTVewGHc"
      },
      "source": [
        "evaluate_model_on_test_image('MobileNetV2', 'LSTM')"
      ],
      "execution_count": null,
      "outputs": []
    },
    {
      "cell_type": "code",
      "metadata": {
        "id": "k7wMmINOwGHc"
      },
      "source": [
        "evaluate_model_on_surf_image('MobileNetV2', 'LSTM')"
      ],
      "execution_count": null,
      "outputs": []
    },
    {
      "cell_type": "markdown",
      "metadata": {
        "id": "ov8rgk01h62k"
      },
      "source": [
        "### 3.3 InceptionV3"
      ]
    },
    {
      "cell_type": "code",
      "metadata": {
        "id": "yQC3EmESkEjb"
      },
      "source": [
        "def load_image_InceptionV3(image_path):\n",
        "    img = tf.io.read_file(image_path)\n",
        "    img = tf.image.decode_jpeg(img, channels=3)\n",
        "    img = tf.image.resize(img, input_shape[:2])\n",
        "    img = tf.keras.applications.inception_v3.preprocess_input(img)\n",
        "    return img, image_path"
      ],
      "execution_count": null,
      "outputs": []
    },
    {
      "cell_type": "code",
      "metadata": {
        "id": "c2r9MXZah62l"
      },
      "source": [
        "save_features('InceptionV3', tf.keras.applications.InceptionV3(include_top=False, input_shape=input_shape),\n",
        "            load_image_InceptionV3)"
      ],
      "execution_count": null,
      "outputs": []
    },
    {
      "cell_type": "markdown",
      "metadata": {
        "id": "Eah-aPkqwTvL"
      },
      "source": [
        "#### 3.2.1 GRU"
      ]
    },
    {
      "cell_type": "code",
      "metadata": {
        "id": "g4WoWMPOh62l"
      },
      "source": [
        "train_model('InceptionV3', 'GRU')"
      ],
      "execution_count": null,
      "outputs": []
    },
    {
      "cell_type": "code",
      "metadata": {
        "id": "1zWbv2y2h62l"
      },
      "source": [
        "evaluate_model_on_validation_set('InceptionV3', 'GRU')"
      ],
      "execution_count": null,
      "outputs": []
    },
    {
      "cell_type": "code",
      "metadata": {
        "id": "FHgOu4lOh62l"
      },
      "source": [
        "evaluate_model_on_validation_image('InceptionV3', 'GRU')"
      ],
      "execution_count": null,
      "outputs": []
    },
    {
      "cell_type": "code",
      "metadata": {
        "id": "iC0Y6Ckqh62m"
      },
      "source": [
        "evaluate_model_on_test_image('InceptionV3', 'GRU')"
      ],
      "execution_count": null,
      "outputs": []
    },
    {
      "cell_type": "code",
      "metadata": {
        "id": "RTvHKPENh62m"
      },
      "source": [
        "evaluate_model_on_surf_image('InceptionV3', 'GRU')"
      ],
      "execution_count": null,
      "outputs": []
    },
    {
      "cell_type": "markdown",
      "metadata": {
        "id": "BRBZ9vWwwXV4"
      },
      "source": [
        "#### 3.2.2 LSTM"
      ]
    },
    {
      "cell_type": "code",
      "metadata": {
        "id": "LMpHceZCwXV6"
      },
      "source": [
        "train_model('InceptionV3', 'LSTM')"
      ],
      "execution_count": null,
      "outputs": []
    },
    {
      "cell_type": "code",
      "metadata": {
        "id": "Nf0LRpq9wXV8"
      },
      "source": [
        "evaluate_model_on_validation_set('InceptionV3', 'LSTM')"
      ],
      "execution_count": null,
      "outputs": []
    },
    {
      "cell_type": "code",
      "metadata": {
        "id": "2-ld5FmKwXV-"
      },
      "source": [
        "evaluate_model_on_validation_image('InceptionV3', 'LSTM')"
      ],
      "execution_count": null,
      "outputs": []
    },
    {
      "cell_type": "code",
      "metadata": {
        "id": "PwcqCqEhwXV_"
      },
      "source": [
        "evaluate_model_on_test_image('InceptionV3', 'LSTM')"
      ],
      "execution_count": null,
      "outputs": []
    },
    {
      "cell_type": "code",
      "metadata": {
        "id": "zZ2xby7NwXV_"
      },
      "source": [
        "evaluate_model_on_surf_image('InceptionV3', 'LSTM')"
      ],
      "execution_count": null,
      "outputs": []
    },
    {
      "cell_type": "markdown",
      "metadata": {
        "id": "mrFSbRfT5dgm"
      },
      "source": [
        "## 4 Final Results"
      ]
    },
    {
      "cell_type": "markdown",
      "metadata": {
        "id": "pbczzH4jGNWF"
      },
      "source": [
        "### 4.1 Scores"
      ]
    },
    {
      "cell_type": "code",
      "metadata": {
        "id": "O2vt3S0XgiwM"
      },
      "source": [
        "def plot_results(df, ylabel, width, size):\n",
        "    labels = [x[0][1] for x in df]\n",
        "    x = np.arange(len(labels))\n",
        "\n",
        "    fig, ax = plt.subplots()\n",
        "    scores_len = len(df[0][1:])\n",
        "    for i in range(scores_len):\n",
        "        score_label = df[0][i+1][0]\n",
        "        scores = [x[i+1][1] for x in df]\n",
        "        rects = ax.bar(x+(i-scores_len//2)*width, scores, width, label=score_label)\n",
        "\n",
        "    ax.set_ylabel(ylabel)\n",
        "    ax.set_xticks(x)\n",
        "    ax.set_xticklabels(labels)\n",
        "    ax.legend(bbox_to_anchor=(1.01, 1), loc='upper left')\n",
        "\n",
        "    fig.set_size_inches(size[0], size[1])\n",
        "\n",
        "    plt.show()"
      ],
      "execution_count": null,
      "outputs": []
    },
    {
      "cell_type": "code",
      "metadata": {
        "id": "M3eEpmdPqWFR"
      },
      "source": [
        "import pandas as pd\n",
        "\n",
        "scores = [[x[0]] + x[2:-1] for x in results]\n",
        "df_columns = [x[0] for x in scores[0]]\n",
        "df_data = [dict(x) for x in scores]\n",
        "pd.DataFrame(df_data, columns=df_columns)"
      ],
      "execution_count": null,
      "outputs": []
    },
    {
      "cell_type": "code",
      "metadata": {
        "id": "qtWiP1LXElEK"
      },
      "source": [
        "plot_results(scores, 'Scores', 0.08, (17, 8))"
      ],
      "execution_count": null,
      "outputs": []
    },
    {
      "cell_type": "markdown",
      "metadata": {
        "id": "vUgG1YT6GSmX"
      },
      "source": [
        "### 4.2 Times"
      ]
    },
    {
      "cell_type": "markdown",
      "metadata": {
        "id": "2Arm2re9OWt1"
      },
      "source": [
        "#### 4.2.1 Training"
      ]
    },
    {
      "cell_type": "code",
      "metadata": {
        "id": "Sxtwsh1RFpEc"
      },
      "source": [
        "training_times = [x[0:2] for x in results]\n",
        "df_columns = [x[0] for x in training_times[0]]\n",
        "df_data = [dict(x) for x in training_times]\n",
        "pd.DataFrame(df_data, columns=df_columns)"
      ],
      "execution_count": null,
      "outputs": []
    },
    {
      "cell_type": "code",
      "metadata": {
        "id": "In2ffVt2hBsq"
      },
      "source": [
        "plot_results(training_times, 'Training time (s)', 0.4, (15, 8))"
      ],
      "execution_count": null,
      "outputs": []
    },
    {
      "cell_type": "markdown",
      "metadata": {
        "id": "hEAmusZHObNu"
      },
      "source": [
        "#### 4.2.2 Prediction"
      ]
    },
    {
      "cell_type": "code",
      "metadata": {
        "id": "KgpO8zfM4h1F"
      },
      "source": [
        "prediction_times = [[x[0]] + [x[-1]] for x in results]\n",
        "df_columns = [x[0] for x in prediction_times[0]]\n",
        "df_data = [dict(x) for x in prediction_times]\n",
        "pd.DataFrame(df_data, columns=df_columns)"
      ],
      "execution_count": null,
      "outputs": []
    },
    {
      "cell_type": "code",
      "metadata": {
        "id": "WrPleYRr4voi"
      },
      "source": [
        "plot_results(prediction_times, 'Prediction time (s)', 0.4, (15, 8))"
      ],
      "execution_count": null,
      "outputs": []
    },
    {
      "cell_type": "markdown",
      "metadata": {
        "id": "nMdsdlNc5kyi"
      },
      "source": [
        "## 5 References"
      ]
    },
    {
      "cell_type": "markdown",
      "metadata": {
        "id": "3DFaDELj0nMu"
      },
      "source": [
        "1. Dataset: https://cocodataset.org/#home\n",
        "2. Tutorial: https://www.tensorflow.org/tutorials/text/image_captioning\n",
        "3. Evaluation metrics: https://pypi.org/project/pycocoevalcap/\n",
        "\n",
        "\n"
      ]
    }
  ]
}