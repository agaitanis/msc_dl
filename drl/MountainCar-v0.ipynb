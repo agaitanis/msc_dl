{
 "cells": [
  {
   "cell_type": "code",
   "execution_count": 7,
   "id": "2f02b2a0-a263-492a-86f2-63ee0ed94ba7",
   "metadata": {},
   "outputs": [
    {
     "name": "stdout",
     "output_type": "stream",
     "text": [
      "tensorflow version = 2.5.0\n"
     ]
    }
   ],
   "source": [
    "import tensorflow as tf\n",
    "import tensorflow.keras as keras\n",
    "\n",
    "print(f'tensorflow version = {tf.__version__}')"
   ]
  },
  {
   "cell_type": "code",
   "execution_count": 8,
   "id": "6db0b521-a282-4a05-9ab5-3431f3960ccc",
   "metadata": {},
   "outputs": [
    {
     "data": {
      "text/plain": [
       "[PhysicalDevice(name='/physical_device:GPU:0', device_type='GPU')]"
      ]
     },
     "execution_count": 8,
     "metadata": {},
     "output_type": "execute_result"
    }
   ],
   "source": [
    "tf.config.list_physical_devices('GPU')"
   ]
  },
  {
   "cell_type": "code",
   "execution_count": null,
   "id": "4297aad5-a07b-4f96-b24f-849ebcdc7eb7",
   "metadata": {},
   "outputs": [],
   "source": [
    "np.random.seed(0)\n",
    "env.seed(0)"
   ]
  },
  {
   "cell_type": "code",
   "execution_count": 9,
   "id": "801052c0-6d76-4c54-b6ba-115fb254abdc",
   "metadata": {},
   "outputs": [],
   "source": [
    "import gym\n",
    "\n",
    "env = gym.make('MountainCar-v0')"
   ]
  },
  {
   "cell_type": "code",
   "execution_count": 10,
   "id": "83f09eb9-7ed9-442c-82f2-b6cfd0e0742d",
   "metadata": {},
   "outputs": [],
   "source": [
    "model = keras.models.Sequential()\n",
    "model.add(keras.layers.Flatten(input_shape=(1,) + env.observation_space.shape))\n",
    "model.add(keras.layers.Dense(128, activation='relu'))\n",
    "model.add(keras.layers.Dense(64, activation='relu'))\n",
    "model.add(keras.layers.Dense(32, activation='relu'))\n",
    "model.add(keras.layers.Dense(env.action_space.n))"
   ]
  },
  {
   "cell_type": "code",
   "execution_count": null,
   "id": "3ef97d53-8849-4a3d-bc97-3eef5e88a9d4",
   "metadata": {},
   "outputs": [
    {
     "name": "stdout",
     "output_type": "stream",
     "text": [
      "Training for 150000 steps ...\n",
      "Interval 1 (0 steps performed)\n"
     ]
    },
    {
     "name": "stderr",
     "output_type": "stream",
     "text": [
      "C:\\Users\\alexa\\anaconda3\\envs\\msc_dl\\lib\\site-packages\\tensorflow\\python\\keras\\engine\\training.py:2426: UserWarning: `Model.state_updates` will be removed in a future version. This property should not be used in TensorFlow 2.0, as `updates` are applied automatically.\n",
      "  warnings.warn('`Model.state_updates` will be removed in a future version. '\n"
     ]
    },
    {
     "name": "stdout",
     "output_type": "stream",
     "text": [
      "   19/10000 [..............................] - ETA: 3:06 - reward: -1.0000"
     ]
    },
    {
     "name": "stderr",
     "output_type": "stream",
     "text": [
      "C:\\Users\\alexa\\anaconda3\\envs\\msc_dl\\lib\\site-packages\\rl\\memory.py:37: UserWarning: Not enough entries to sample without replacement. Consider increasing your warm-up phase to avoid oversampling!\n",
      "  warnings.warn('Not enough entries to sample without replacement. Consider increasing your warm-up phase to avoid oversampling!')\n"
     ]
    },
    {
     "name": "stdout",
     "output_type": "stream",
     "text": [
      "10000/10000 [==============================] - 219s 22ms/step - reward: -1.0000\n",
      "50 episodes - episode_reward: -200.000 [-200.000, -200.000] - loss: 2.329 - mae: 19.086 - mean_q: -28.203\n",
      "\n",
      "Interval 2 (10000 steps performed)\n",
      "10000/10000 [==============================] - 216s 22ms/step - reward: -1.0000\n",
      "50 episodes - episode_reward: -200.000 [-200.000, -200.000] - loss: 6.104 - mae: 33.274 - mean_q: -49.280\n",
      "\n",
      "Interval 3 (20000 steps performed)\n",
      "10000/10000 [==============================] - 211s 21ms/step - reward: -1.0000\n",
      "50 episodes - episode_reward: -200.000 [-200.000, -200.000] - loss: 7.301 - mae: 37.360 - mean_q: -55.378\n",
      "\n",
      "Interval 4 (30000 steps performed)\n",
      "10000/10000 [==============================] - 219s 22ms/step - reward: -1.0000\n",
      "50 episodes - episode_reward: -200.000 [-200.000, -200.000] - loss: 7.887 - mae: 38.419 - mean_q: -56.949\n",
      "\n",
      "Interval 5 (40000 steps performed)\n",
      "10000/10000 [==============================] - 220s 22ms/step - reward: -1.0000\n",
      "50 episodes - episode_reward: -200.000 [-200.000, -200.000] - loss: 8.684 - mae: 40.188 - mean_q: -59.595\n",
      "\n",
      "Interval 6 (50000 steps performed)\n",
      "10000/10000 [==============================] - 222s 22ms/step - reward: -1.0000\n",
      "50 episodes - episode_reward: -200.000 [-200.000, -200.000] - loss: 9.020 - mae: 40.193 - mean_q: -59.567\n",
      "\n",
      "Interval 7 (60000 steps performed)\n",
      " 4537/10000 [============>.................] - ETA: 2:00 - reward: -1.0000 ETA: 2:01"
     ]
    }
   ],
   "source": [
    "from rl.memory import SequentialMemory\n",
    "from rl.policy import BoltzmannQPolicy\n",
    "from rl.agents import DQNAgent\n",
    "\n",
    "agent = DQNAgent(model=model,\n",
    "                 nb_actions=env.action_space.n, \n",
    "                 memory=SequentialMemory(limit=50000, window_length=1), \n",
    "                 nb_steps_warmup=50, \n",
    "                 target_model_update=1e-2, \n",
    "                 policy=BoltzmannQPolicy())\n",
    "\n",
    "agent.compile(keras.optimizers.Adam(lr=1e-3), metrics=['mae'])\n",
    "agent.fit(env, nb_steps=150000, visualize=True)\n",
    "agent.save_weights('model.mdl', overwrite=True)"
   ]
  },
  {
   "cell_type": "code",
   "execution_count": null,
   "id": "54ca773f-58c1-47a8-a5eb-647c4f16f641",
   "metadata": {},
   "outputs": [],
   "source": [
    "agent.test(env, nb_episodes=5, visualize=True)\n",
    "\n",
    "env.close()"
   ]
  }
 ],
 "metadata": {
  "kernelspec": {
   "display_name": "Python 3",
   "language": "python",
   "name": "python3"
  },
  "language_info": {
   "codemirror_mode": {
    "name": "ipython",
    "version": 3
   },
   "file_extension": ".py",
   "mimetype": "text/x-python",
   "name": "python",
   "nbconvert_exporter": "python",
   "pygments_lexer": "ipython3",
   "version": "3.8.10"
  }
 },
 "nbformat": 4,
 "nbformat_minor": 5
}
