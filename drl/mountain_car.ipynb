{
  "nbformat": 4,
  "nbformat_minor": 0,
  "metadata": {
    "colab": {
      "name": "mountain_car.ipynb",
      "provenance": [],
      "collapsed_sections": [
        "TGPjW8UqbxCz",
        "pSb8LKbBbq-Q",
        "wDww_e2bdB1E",
        "y6wa0-todGIn",
        "YsuBrQN8dI0Y",
        "OvbX9usBdLXR",
        "hrniOHPfdQy8",
        "JYIWSzkOdVx2",
        "TZ1gTzcNdaAw"
      ],
      "toc_visible": true,
      "machine_shape": "hm"
    },
    "kernelspec": {
      "name": "python3",
      "display_name": "Python 3"
    },
    "language_info": {
      "name": "python"
    },
    "accelerator": "GPU"
  },
  "cells": [
    {
      "cell_type": "markdown",
      "metadata": {
        "id": "PMX5N-95bB3a"
      },
      "source": [
        "# DRL Project - MountainCar-v0"
      ]
    },
    {
      "cell_type": "markdown",
      "metadata": {
        "id": "Ihp98xU5b1v3"
      },
      "source": [
        "## Components"
      ]
    },
    {
      "cell_type": "markdown",
      "metadata": {
        "id": "yyxjRKwKd-y0"
      },
      "source": [
        "### Libraries"
      ]
    },
    {
      "cell_type": "code",
      "metadata": {
        "colab": {
          "base_uri": "https://localhost:8080/"
        },
        "id": "1vtTgJ4RU6iE",
        "outputId": "a06be872-bafd-4bea-fbd0-786536262229"
      },
      "source": [
        "!pip install keras-rl2\n",
        "!apt-get install -y xvfb python-opengl ffmpeg > /dev/null 2>&1\n",
        "!pip install -U colabgymrender\n",
        "!apt-get install -y xvfb python-opengl > /dev/null 2>&1\n",
        "!pip install gym pyvirtualdisplay > /dev/null 2>&1"
      ],
      "execution_count": 1,
      "outputs": [
        {
          "output_type": "stream",
          "text": [
            "Requirement already satisfied: keras-rl2 in /usr/local/lib/python3.7/dist-packages (1.0.5)\n",
            "Requirement already satisfied: tensorflow in /usr/local/lib/python3.7/dist-packages (from keras-rl2) (2.5.0)\n",
            "Requirement already satisfied: flatbuffers~=1.12.0 in /usr/local/lib/python3.7/dist-packages (from tensorflow->keras-rl2) (1.12)\n",
            "Requirement already satisfied: termcolor~=1.1.0 in /usr/local/lib/python3.7/dist-packages (from tensorflow->keras-rl2) (1.1.0)\n",
            "Requirement already satisfied: absl-py~=0.10 in /usr/local/lib/python3.7/dist-packages (from tensorflow->keras-rl2) (0.12.0)\n",
            "Requirement already satisfied: keras-preprocessing~=1.1.2 in /usr/local/lib/python3.7/dist-packages (from tensorflow->keras-rl2) (1.1.2)\n",
            "Requirement already satisfied: six~=1.15.0 in /usr/local/lib/python3.7/dist-packages (from tensorflow->keras-rl2) (1.15.0)\n",
            "Requirement already satisfied: numpy~=1.19.2 in /usr/local/lib/python3.7/dist-packages (from tensorflow->keras-rl2) (1.19.5)\n",
            "Requirement already satisfied: google-pasta~=0.2 in /usr/local/lib/python3.7/dist-packages (from tensorflow->keras-rl2) (0.2.0)\n",
            "Requirement already satisfied: typing-extensions~=3.7.4 in /usr/local/lib/python3.7/dist-packages (from tensorflow->keras-rl2) (3.7.4.3)\n",
            "Requirement already satisfied: grpcio~=1.34.0 in /usr/local/lib/python3.7/dist-packages (from tensorflow->keras-rl2) (1.34.1)\n",
            "Requirement already satisfied: wrapt~=1.12.1 in /usr/local/lib/python3.7/dist-packages (from tensorflow->keras-rl2) (1.12.1)\n",
            "Requirement already satisfied: keras-nightly~=2.5.0.dev in /usr/local/lib/python3.7/dist-packages (from tensorflow->keras-rl2) (2.5.0.dev2021032900)\n",
            "Requirement already satisfied: tensorboard~=2.5 in /usr/local/lib/python3.7/dist-packages (from tensorflow->keras-rl2) (2.5.0)\n",
            "Requirement already satisfied: protobuf>=3.9.2 in /usr/local/lib/python3.7/dist-packages (from tensorflow->keras-rl2) (3.12.4)\n",
            "Requirement already satisfied: opt-einsum~=3.3.0 in /usr/local/lib/python3.7/dist-packages (from tensorflow->keras-rl2) (3.3.0)\n",
            "Requirement already satisfied: astunparse~=1.6.3 in /usr/local/lib/python3.7/dist-packages (from tensorflow->keras-rl2) (1.6.3)\n",
            "Requirement already satisfied: wheel~=0.35 in /usr/local/lib/python3.7/dist-packages (from tensorflow->keras-rl2) (0.36.2)\n",
            "Requirement already satisfied: tensorflow-estimator<2.6.0,>=2.5.0rc0 in /usr/local/lib/python3.7/dist-packages (from tensorflow->keras-rl2) (2.5.0)\n",
            "Requirement already satisfied: h5py~=3.1.0 in /usr/local/lib/python3.7/dist-packages (from tensorflow->keras-rl2) (3.1.0)\n",
            "Requirement already satisfied: gast==0.4.0 in /usr/local/lib/python3.7/dist-packages (from tensorflow->keras-rl2) (0.4.0)\n",
            "Requirement already satisfied: google-auth<2,>=1.6.3 in /usr/local/lib/python3.7/dist-packages (from tensorboard~=2.5->tensorflow->keras-rl2) (1.30.0)\n",
            "Requirement already satisfied: tensorboard-plugin-wit>=1.6.0 in /usr/local/lib/python3.7/dist-packages (from tensorboard~=2.5->tensorflow->keras-rl2) (1.8.0)\n",
            "Requirement already satisfied: tensorboard-data-server<0.7.0,>=0.6.0 in /usr/local/lib/python3.7/dist-packages (from tensorboard~=2.5->tensorflow->keras-rl2) (0.6.1)\n",
            "Requirement already satisfied: markdown>=2.6.8 in /usr/local/lib/python3.7/dist-packages (from tensorboard~=2.5->tensorflow->keras-rl2) (3.3.4)\n",
            "Requirement already satisfied: setuptools>=41.0.0 in /usr/local/lib/python3.7/dist-packages (from tensorboard~=2.5->tensorflow->keras-rl2) (56.1.0)\n",
            "Requirement already satisfied: google-auth-oauthlib<0.5,>=0.4.1 in /usr/local/lib/python3.7/dist-packages (from tensorboard~=2.5->tensorflow->keras-rl2) (0.4.4)\n",
            "Requirement already satisfied: werkzeug>=0.11.15 in /usr/local/lib/python3.7/dist-packages (from tensorboard~=2.5->tensorflow->keras-rl2) (1.0.1)\n",
            "Requirement already satisfied: requests<3,>=2.21.0 in /usr/local/lib/python3.7/dist-packages (from tensorboard~=2.5->tensorflow->keras-rl2) (2.23.0)\n",
            "Requirement already satisfied: cached-property; python_version < \"3.8\" in /usr/local/lib/python3.7/dist-packages (from h5py~=3.1.0->tensorflow->keras-rl2) (1.5.2)\n",
            "Requirement already satisfied: pyasn1-modules>=0.2.1 in /usr/local/lib/python3.7/dist-packages (from google-auth<2,>=1.6.3->tensorboard~=2.5->tensorflow->keras-rl2) (0.2.8)\n",
            "Requirement already satisfied: rsa<5,>=3.1.4; python_version >= \"3.6\" in /usr/local/lib/python3.7/dist-packages (from google-auth<2,>=1.6.3->tensorboard~=2.5->tensorflow->keras-rl2) (4.7.2)\n",
            "Requirement already satisfied: cachetools<5.0,>=2.0.0 in /usr/local/lib/python3.7/dist-packages (from google-auth<2,>=1.6.3->tensorboard~=2.5->tensorflow->keras-rl2) (4.2.2)\n",
            "Requirement already satisfied: importlib-metadata; python_version < \"3.8\" in /usr/local/lib/python3.7/dist-packages (from markdown>=2.6.8->tensorboard~=2.5->tensorflow->keras-rl2) (4.0.1)\n",
            "Requirement already satisfied: requests-oauthlib>=0.7.0 in /usr/local/lib/python3.7/dist-packages (from google-auth-oauthlib<0.5,>=0.4.1->tensorboard~=2.5->tensorflow->keras-rl2) (1.3.0)\n",
            "Requirement already satisfied: urllib3!=1.25.0,!=1.25.1,<1.26,>=1.21.1 in /usr/local/lib/python3.7/dist-packages (from requests<3,>=2.21.0->tensorboard~=2.5->tensorflow->keras-rl2) (1.24.3)\n",
            "Requirement already satisfied: certifi>=2017.4.17 in /usr/local/lib/python3.7/dist-packages (from requests<3,>=2.21.0->tensorboard~=2.5->tensorflow->keras-rl2) (2020.12.5)\n",
            "Requirement already satisfied: chardet<4,>=3.0.2 in /usr/local/lib/python3.7/dist-packages (from requests<3,>=2.21.0->tensorboard~=2.5->tensorflow->keras-rl2) (3.0.4)\n",
            "Requirement already satisfied: idna<3,>=2.5 in /usr/local/lib/python3.7/dist-packages (from requests<3,>=2.21.0->tensorboard~=2.5->tensorflow->keras-rl2) (2.10)\n",
            "Requirement already satisfied: pyasn1<0.5.0,>=0.4.6 in /usr/local/lib/python3.7/dist-packages (from pyasn1-modules>=0.2.1->google-auth<2,>=1.6.3->tensorboard~=2.5->tensorflow->keras-rl2) (0.4.8)\n",
            "Requirement already satisfied: zipp>=0.5 in /usr/local/lib/python3.7/dist-packages (from importlib-metadata; python_version < \"3.8\"->markdown>=2.6.8->tensorboard~=2.5->tensorflow->keras-rl2) (3.4.1)\n",
            "Requirement already satisfied: oauthlib>=3.0.0 in /usr/local/lib/python3.7/dist-packages (from requests-oauthlib>=0.7.0->google-auth-oauthlib<0.5,>=0.4.1->tensorboard~=2.5->tensorflow->keras-rl2) (3.1.0)\n",
            "Collecting colabgymrender\n",
            "  Downloading https://files.pythonhosted.org/packages/19/1d/47289e427492af14ced09dfe1531bf3ce8178e7504a8222669b3193d165e/colabgymrender-1.0.9-py3-none-any.whl\n",
            "Requirement already satisfied, skipping upgrade: moviepy in /usr/local/lib/python3.7/dist-packages (from colabgymrender) (0.2.3.5)\n",
            "Requirement already satisfied, skipping upgrade: tqdm<5.0,>=4.11.2 in /usr/local/lib/python3.7/dist-packages (from moviepy->colabgymrender) (4.41.1)\n",
            "Requirement already satisfied, skipping upgrade: decorator<5.0,>=4.0.2 in /usr/local/lib/python3.7/dist-packages (from moviepy->colabgymrender) (4.4.2)\n",
            "Requirement already satisfied, skipping upgrade: imageio<3.0,>=2.1.2 in /usr/local/lib/python3.7/dist-packages (from moviepy->colabgymrender) (2.4.1)\n",
            "Requirement already satisfied, skipping upgrade: numpy in /usr/local/lib/python3.7/dist-packages (from moviepy->colabgymrender) (1.19.5)\n",
            "Requirement already satisfied, skipping upgrade: pillow in /usr/local/lib/python3.7/dist-packages (from imageio<3.0,>=2.1.2->moviepy->colabgymrender) (7.1.2)\n",
            "Installing collected packages: colabgymrender\n",
            "Successfully installed colabgymrender-1.0.9\n"
          ],
          "name": "stdout"
        }
      ]
    },
    {
      "cell_type": "code",
      "metadata": {
        "colab": {
          "base_uri": "https://localhost:8080/"
        },
        "id": "w4q1DDvPUpMJ",
        "outputId": "4fc93c76-9ef7-47b8-d306-b5bd55b5cc65"
      },
      "source": [
        "from gym.envs.classic_control.mountain_car import MountainCarEnv\n",
        "from rl.policy import GreedyQPolicy, EpsGreedyQPolicy, MaxBoltzmannQPolicy\n",
        "from rl.memory import SequentialMemory\n",
        "from rl.callbacks import FileLogger\n",
        "from rl.agents import DQNAgent\n",
        "from colabgymrender.recorder import Recorder\n",
        "from IPython import display as ipythondisplay\n",
        "from pyvirtualdisplay import Display\n",
        "import matplotlib.pyplot as plt\n",
        "import tensorflow as tf\n",
        "import tensorflow.keras as keras\n",
        "import numpy as np\n",
        "import json\n",
        "import gym\n",
        "\n",
        "print(f'tensorflow version = {tf.__version__}')\n",
        "print(tf.config.list_physical_devices('GPU'))\n",
        "print()\n",
        "\n",
        "# FIXME\n",
        "display = Display(visible=0, size=(400, 300))\n",
        "display.start()"
      ],
      "execution_count": 2,
      "outputs": [
        {
          "output_type": "stream",
          "text": [
            "Imageio: 'ffmpeg-linux64-v3.3.1' was not found on your computer; downloading it now.\n",
            "Try 1. Download from https://github.com/imageio/imageio-binaries/raw/master/ffmpeg/ffmpeg-linux64-v3.3.1 (43.8 MB)\n",
            "Downloading: 8192/45929032 bytes (0.0%)\b\b\b\b\b\b\b\b\b\b\b\b\b\b\b\b\b\b\b\b\b\b\b\b\b\b2170880/45929032 bytes (4.7%)\b\b\b\b\b\b\b\b\b\b\b\b\b\b\b\b\b\b\b\b\b\b\b\b\b\b\b\b\b6209536/45929032 bytes (13.5%)\b\b\b\b\b\b\b\b\b\b\b\b\b\b\b\b\b\b\b\b\b\b\b\b\b\b\b\b\b\b10100736/45929032 bytes (22.0%)\b\b\b\b\b\b\b\b\b\b\b\b\b\b\b\b\b\b\b\b\b\b\b\b\b\b\b\b\b\b\b13959168/45929032 bytes (30.4%)\b\b\b\b\b\b\b\b\b\b\b\b\b\b\b\b\b\b\b\b\b\b\b\b\b\b\b\b\b\b\b18006016/45929032 bytes (39.2%)\b\b\b\b\b\b\b\b\b\b\b\b\b\b\b\b\b\b\b\b\b\b\b\b\b\b\b\b\b\b\b22052864/45929032 bytes (48.0%)\b\b\b\b\b\b\b\b\b\b\b\b\b\b\b\b\b\b\b\b\b\b\b\b\b\b\b\b\b\b\b26091520/45929032 bytes (56.8%)\b\b\b\b\b\b\b\b\b\b\b\b\b\b\b\b\b\b\b\b\b\b\b\b\b\b\b\b\b\b\b30031872/45929032 bytes (65.4%)\b\b\b\b\b\b\b\b\b\b\b\b\b\b\b\b\b\b\b\b\b\b\b\b\b\b\b\b\b\b\b34013184/45929032 bytes (74.1%)\b\b\b\b\b\b\b\b\b\b\b\b\b\b\b\b\b\b\b\b\b\b\b\b\b\b\b\b\b\b\b38035456/45929032 bytes (82.8%)\b\b\b\b\b\b\b\b\b\b\b\b\b\b\b\b\b\b\b\b\b\b\b\b\b\b\b\b\b\b\b42082304/45929032 bytes (91.6%)\b\b\b\b\b\b\b\b\b\b\b\b\b\b\b\b\b\b\b\b\b\b\b\b\b\b\b\b\b\b\b45929032/45929032 bytes (100.0%)\n",
            "  Done\n",
            "File saved as /root/.imageio/ffmpeg/ffmpeg-linux64-v3.3.1.\n",
            "tensorflow version = 2.5.0\n",
            "[PhysicalDevice(name='/physical_device:GPU:0', device_type='GPU')]\n",
            "\n"
          ],
          "name": "stdout"
        },
        {
          "output_type": "execute_result",
          "data": {
            "text/plain": [
              "<pyvirtualdisplay.display.Display at 0x7f87dc065bd0>"
            ]
          },
          "metadata": {
            "tags": []
          },
          "execution_count": 2
        }
      ]
    },
    {
      "cell_type": "markdown",
      "metadata": {
        "id": "TGPjW8UqbxCz"
      },
      "source": [
        "### Environment"
      ]
    },
    {
      "cell_type": "code",
      "metadata": {
        "id": "HJmvtwDCWqPz"
      },
      "source": [
        "class MountainCarWithNoiseEnv(MountainCarEnv):\n",
        "    def __init__(self, goal_velocity=0, noise_std=0):\n",
        "        super().__init__(goal_velocity)\n",
        "        self.noise_std = noise_std\n",
        "\n",
        "    def step(self, action):\n",
        "        state, reward, done, info = super().step(action)\n",
        "        \n",
        "        if self.noise_std > 0:\n",
        "            state[0] += np.random.normal(0, self.noise_std)\n",
        "            state[1] += np.random.normal(0, self.noise_std)\n",
        "        \n",
        "        return state, reward, done, info"
      ],
      "execution_count": 3,
      "outputs": []
    },
    {
      "cell_type": "markdown",
      "metadata": {
        "id": "pSb8LKbBbq-Q"
      },
      "source": [
        "### Neural Network"
      ]
    },
    {
      "cell_type": "code",
      "metadata": {
        "id": "enGe3DqlYYxc"
      },
      "source": [
        "def get_model(env):\n",
        "    model = keras.models.Sequential()\n",
        "    model.add(keras.layers.Flatten(input_shape=(1,) + env.observation_space.shape))\n",
        "    model.add(keras.layers.Dense(128, activation='relu'))\n",
        "    model.add(keras.layers.Dense(64, activation='relu'))\n",
        "    model.add(keras.layers.Dense(32, activation='relu'))\n",
        "    model.add(keras.layers.Dense(env.action_space.n))\n",
        "    \n",
        "    return model"
      ],
      "execution_count": 4,
      "outputs": []
    },
    {
      "cell_type": "markdown",
      "metadata": {
        "id": "vRyX_8qqbbxY"
      },
      "source": [
        "### Agent"
      ]
    },
    {
      "cell_type": "code",
      "metadata": {
        "id": "zpnpcayvVAKu"
      },
      "source": [
        "def run_experiment(experiment, policy, noise_std):   \n",
        "    results_file_name = get_results_file_name(experiment)\n",
        "    \n",
        "    try:\n",
        "        env = MountainCarWithNoiseEnv(noise_std=noise_std)\n",
        "        \n",
        "        env.seed(0)\n",
        "        np.random.seed(0)\n",
        "        \n",
        "        model = get_model(env)\n",
        "        \n",
        "        agent = DQNAgent(model=model,\n",
        "                         nb_actions=env.action_space.n, \n",
        "                         memory=SequentialMemory(limit=50000, window_length=1), \n",
        "                         nb_steps_warmup=50, \n",
        "                         target_model_update=1e-2, \n",
        "                         policy=policy)\n",
        "        \n",
        "        callbacks=[FileLogger(results_file_name)]\n",
        "        \n",
        "        agent.compile(keras.optimizers.Adam(lr=1e-3), metrics=['mae'])\n",
        "        agent.fit(env, nb_steps=100000, nb_max_episode_steps=200, callbacks=callbacks,\n",
        "                  visualize=False, verbose=1) # FIXME\n",
        "                \n",
        "        # input(\"Press enter to start to testing...\")\n",
        "        # agent.test(env, nb_episodes=5, visualize=True)\n",
        "    finally:\n",
        "        env.close()"
      ],
      "execution_count": 5,
      "outputs": []
    },
    {
      "cell_type": "markdown",
      "metadata": {
        "id": "7VrjxKBwcFor"
      },
      "source": [
        "### Plots"
      ]
    },
    {
      "cell_type": "code",
      "metadata": {
        "colab": {
          "base_uri": "https://localhost:8080/"
        },
        "id": "ns2x3oqLZitL",
        "outputId": "df3e6938-793a-4b26-e349-1152a48effec"
      },
      "source": [
        "from google.colab import drive\n",
        "drive.mount('/content/drive')\n",
        "\n",
        "MAIN_DIR = '/content/drive/MyDrive/'"
      ],
      "execution_count": 6,
      "outputs": [
        {
          "output_type": "stream",
          "text": [
            "Mounted at /content/drive\n"
          ],
          "name": "stdout"
        }
      ]
    },
    {
      "cell_type": "code",
      "metadata": {
        "id": "fxEZ9A1SYbZ5"
      },
      "source": [
        "def get_results_file_name(experiment):\n",
        "    return MAIN_DIR + experiment + '.json'\n",
        "\n",
        "def exponential_smoothing(x, alpha):\n",
        "    y = np.zeros_like(x)\n",
        "    \n",
        "    y[0] = x[0]\n",
        "    \n",
        "    for i in range(1, len(x)):\n",
        "        y[i] = alpha*x[i] + (1-alpha)*y[i-1]\n",
        "    \n",
        "    return y\n",
        "\n",
        "def plot_results(experiments, prefix=None):\n",
        "    if type(experiments) == str:\n",
        "        experiments = [experiments]\n",
        "        if prefix is None:\n",
        "            prefix = experiments[0]\n",
        "    \n",
        "    plt.figure()\n",
        "    plt.title('Mean reward per episode')\n",
        "    plt.xlabel('Episodes')\n",
        "    plt.ylabel('Reward')\n",
        "    for experiment in experiments:\n",
        "        results_file_name = get_results_file_name(experiment)     \n",
        "        with open(results_file_name, 'r') as f:\n",
        "            results = json.load(f)\n",
        "        episodes = results['episode']\n",
        "        rewards = results['episode_reward']\n",
        "        # rewards = exponential_smoothing(rewards, 0.01) # FIXME\n",
        "        plt.plot(episodes, rewards, label=experiment)\n",
        "    if len(experiments) > 1:\n",
        "        plt.legend()\n",
        "    plt.show()\n",
        "    plt.savefig(MAIN_DIR + prefix + '_rewards.jpg')\n",
        "    \n",
        "    plt.figure()\n",
        "    plt.title('Mean Q per episode')\n",
        "    plt.xlabel('Episodes')\n",
        "    plt.ylabel('Q')\n",
        "    for experiment in experiments:\n",
        "        results_file_name = get_results_file_name(experiment)     \n",
        "        with open(results_file_name, 'r') as f:\n",
        "            results = json.load(f)\n",
        "        episodes = results['episode']\n",
        "        q = results['mean_q']\n",
        "        plt.plot(episodes, q, label=experiment)\n",
        "    if len(experiments) > 1:\n",
        "        plt.legend()\n",
        "    plt.show()\n",
        "    plt.savefig(MAIN_DIR + prefix + '_q.jpg')"
      ],
      "execution_count": 7,
      "outputs": []
    },
    {
      "cell_type": "markdown",
      "metadata": {
        "id": "1Id5p9x0a5gn"
      },
      "source": [
        "## Experiments"
      ]
    },
    {
      "cell_type": "markdown",
      "metadata": {
        "id": "DKgpGxZRc53x"
      },
      "source": [
        "### Without noise"
      ]
    },
    {
      "cell_type": "markdown",
      "metadata": {
        "id": "dQ0Cep1qa0n2"
      },
      "source": [
        "#### Greedy"
      ]
    },
    {
      "cell_type": "code",
      "metadata": {
        "colab": {
          "base_uri": "https://localhost:8080/"
        },
        "id": "62tYsFWKWL1C",
        "outputId": "0095255e-2996-4224-be29-f82baf90b5f2"
      },
      "source": [
        "run_experiment('Greedy', GreedyQPolicy(), 0)"
      ],
      "execution_count": null,
      "outputs": [
        {
          "output_type": "stream",
          "text": [
            "Training for 100000 steps ...\n",
            "Interval 1 (0 steps performed)\n",
            " 1303/10000 [==>...........................] - ETA: 1:15 - reward: -1.0000"
          ],
          "name": "stdout"
        }
      ]
    },
    {
      "cell_type": "code",
      "metadata": {
        "id": "BYmnopFWahTW"
      },
      "source": [
        "plot_results('Greedy')"
      ],
      "execution_count": null,
      "outputs": []
    },
    {
      "cell_type": "markdown",
      "metadata": {
        "id": "wDww_e2bdB1E"
      },
      "source": [
        "#### EpsGreedy eps=0.05"
      ]
    },
    {
      "cell_type": "code",
      "metadata": {
        "id": "0EypPyVbWQql"
      },
      "source": [
        "run_experiment('EpsGreedy eps=0.05', EpsGreedyQPolicy(eps=0.05), 0)"
      ],
      "execution_count": null,
      "outputs": []
    },
    {
      "cell_type": "code",
      "metadata": {
        "id": "VsZY-Wrsaj60"
      },
      "source": [
        "plot_results('EpsGreedy eps=0.05')"
      ],
      "execution_count": null,
      "outputs": []
    },
    {
      "cell_type": "markdown",
      "metadata": {
        "id": "y6wa0-todGIn"
      },
      "source": [
        "#### EpsGreedy eps=0.1"
      ]
    },
    {
      "cell_type": "code",
      "metadata": {
        "id": "1EqORF2cWRQl"
      },
      "source": [
        "run_experiment('EpsGreedy eps=0.1', EpsGreedyQPolicy(eps=0.1), 0)"
      ],
      "execution_count": null,
      "outputs": []
    },
    {
      "cell_type": "code",
      "metadata": {
        "id": "V6ai6lTNaluX"
      },
      "source": [
        "plot_results('EpsGreedy eps=0.1')"
      ],
      "execution_count": null,
      "outputs": []
    },
    {
      "cell_type": "markdown",
      "metadata": {
        "id": "YsuBrQN8dI0Y"
      },
      "source": [
        "#### EpsGreedy eps=0.2"
      ]
    },
    {
      "cell_type": "code",
      "metadata": {
        "id": "Wk70biCsWQlV"
      },
      "source": [
        "run_experiment('EpsGreedy eps=0.2', EpsGreedyQPolicy(eps=0.2), 0)"
      ],
      "execution_count": null,
      "outputs": []
    },
    {
      "cell_type": "code",
      "metadata": {
        "id": "D9FG9fFYamKm"
      },
      "source": [
        "plot_results('EpsGreedy eps=0.2')"
      ],
      "execution_count": null,
      "outputs": []
    },
    {
      "cell_type": "markdown",
      "metadata": {
        "id": "OvbX9usBdLXR"
      },
      "source": [
        "#### MaxBoltzmann eps=0.05"
      ]
    },
    {
      "cell_type": "code",
      "metadata": {
        "id": "ZwIKzZAsWQfu"
      },
      "source": [
        "run_experiment('MaxBoltzmann eps=0.05', MaxBoltzmannQPolicy(eps=0.05), 0)"
      ],
      "execution_count": null,
      "outputs": []
    },
    {
      "cell_type": "code",
      "metadata": {
        "id": "ACA_nAelam02"
      },
      "source": [
        "plot_results('MaxBoltzmann eps=0.05')"
      ],
      "execution_count": null,
      "outputs": []
    },
    {
      "cell_type": "markdown",
      "metadata": {
        "id": "hrniOHPfdQy8"
      },
      "source": [
        "#### MaxBoltzmann eps=0.1"
      ]
    },
    {
      "cell_type": "code",
      "metadata": {
        "id": "U0p4mmesWQZ_"
      },
      "source": [
        "run_experiment('MaxBoltzmann eps=0.1', MaxBoltzmannQPolicy(eps=0.1), 0)"
      ],
      "execution_count": null,
      "outputs": []
    },
    {
      "cell_type": "code",
      "metadata": {
        "id": "w24yOQbnapHH"
      },
      "source": [
        "plot_results('MaxBoltzmann eps=0.1')"
      ],
      "execution_count": null,
      "outputs": []
    },
    {
      "cell_type": "markdown",
      "metadata": {
        "id": "JYIWSzkOdVx2"
      },
      "source": [
        "#### MaxBoltzmann eps=*0.2*"
      ]
    },
    {
      "cell_type": "code",
      "metadata": {
        "id": "4xb2UIZUWQTm"
      },
      "source": [
        "run_experiment('MaxBoltzmann eps=0.2', MaxBoltzmannQPolicy(eps=0.2), 0)"
      ],
      "execution_count": null,
      "outputs": []
    },
    {
      "cell_type": "code",
      "metadata": {
        "id": "QR8zOI7iapwq"
      },
      "source": [
        "plot_results('MaxBoltzmann eps=0.2')"
      ],
      "execution_count": null,
      "outputs": []
    },
    {
      "cell_type": "markdown",
      "metadata": {
        "id": "TZ1gTzcNdaAw"
      },
      "source": [
        "#### Total Results"
      ]
    },
    {
      "cell_type": "code",
      "metadata": {
        "id": "_VaSSS93ddKN"
      },
      "source": [
        "experiments = [\n",
        "               'Greedy'\n",
        "               'EpsGreedy eps=0.05',\n",
        "               'EpsGreedy eps=0.1',\n",
        "               'EpsGreedy eps=0.2',\n",
        "               'MaxBoltzmann eps=0.05',\n",
        "               'MaxBoltzmann eps=0.1',\n",
        "               'MaxBoltzmann eps=0.2',\n",
        "               ]\n",
        "plot_results(experiments)"
      ],
      "execution_count": null,
      "outputs": []
    }
  ]
}