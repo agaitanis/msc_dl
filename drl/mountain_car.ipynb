{
  "nbformat": 4,
  "nbformat_minor": 0,
  "metadata": {
    "colab": {
      "name": "mountain_car.ipynb",
      "provenance": [],
      "collapsed_sections": [
        "yyxjRKwKd-y0",
        "TGPjW8UqbxCz",
        "pSb8LKbBbq-Q",
        "vRyX_8qqbbxY",
        "7VrjxKBwcFor",
        "dQ0Cep1qa0n2",
        "wDww_e2bdB1E",
        "y6wa0-todGIn",
        "YsuBrQN8dI0Y",
        "OvbX9usBdLXR",
        "hrniOHPfdQy8",
        "JYIWSzkOdVx2",
        "TZ1gTzcNdaAw"
      ],
      "toc_visible": true,
      "machine_shape": "hm"
    },
    "kernelspec": {
      "name": "python3",
      "display_name": "Python 3"
    },
    "language_info": {
      "name": "python"
    },
    "accelerator": "GPU"
  },
  "cells": [
    {
      "cell_type": "markdown",
      "metadata": {
        "id": "PMX5N-95bB3a"
      },
      "source": [
        "# DRL Project - MountainCar-v0"
      ]
    },
    {
      "cell_type": "markdown",
      "metadata": {
        "id": "Ihp98xU5b1v3"
      },
      "source": [
        "## Components"
      ]
    },
    {
      "cell_type": "markdown",
      "metadata": {
        "id": "yyxjRKwKd-y0"
      },
      "source": [
        "### Libraries"
      ]
    },
    {
      "cell_type": "code",
      "metadata": {
        "colab": {
          "base_uri": "https://localhost:8080/"
        },
        "id": "1vtTgJ4RU6iE",
        "outputId": "81ec813c-3c8e-4126-b4e6-73ab499efe7d"
      },
      "source": [
        "!pip install keras-rl2"
      ],
      "execution_count": 5,
      "outputs": [
        {
          "output_type": "stream",
          "text": [
            "Requirement already satisfied: keras-rl2 in /usr/local/lib/python3.7/dist-packages (1.0.5)\n",
            "Requirement already satisfied: tensorflow in /usr/local/lib/python3.7/dist-packages (from keras-rl2) (2.5.0)\n",
            "Requirement already satisfied: protobuf>=3.9.2 in /usr/local/lib/python3.7/dist-packages (from tensorflow->keras-rl2) (3.12.4)\n",
            "Requirement already satisfied: astunparse~=1.6.3 in /usr/local/lib/python3.7/dist-packages (from tensorflow->keras-rl2) (1.6.3)\n",
            "Requirement already satisfied: termcolor~=1.1.0 in /usr/local/lib/python3.7/dist-packages (from tensorflow->keras-rl2) (1.1.0)\n",
            "Requirement already satisfied: google-pasta~=0.2 in /usr/local/lib/python3.7/dist-packages (from tensorflow->keras-rl2) (0.2.0)\n",
            "Requirement already satisfied: h5py~=3.1.0 in /usr/local/lib/python3.7/dist-packages (from tensorflow->keras-rl2) (3.1.0)\n",
            "Requirement already satisfied: tensorflow-estimator<2.6.0,>=2.5.0rc0 in /usr/local/lib/python3.7/dist-packages (from tensorflow->keras-rl2) (2.5.0)\n",
            "Requirement already satisfied: grpcio~=1.34.0 in /usr/local/lib/python3.7/dist-packages (from tensorflow->keras-rl2) (1.34.1)\n",
            "Requirement already satisfied: absl-py~=0.10 in /usr/local/lib/python3.7/dist-packages (from tensorflow->keras-rl2) (0.12.0)\n",
            "Requirement already satisfied: numpy~=1.19.2 in /usr/local/lib/python3.7/dist-packages (from tensorflow->keras-rl2) (1.19.5)\n",
            "Requirement already satisfied: tensorboard~=2.5 in /usr/local/lib/python3.7/dist-packages (from tensorflow->keras-rl2) (2.5.0)\n",
            "Requirement already satisfied: opt-einsum~=3.3.0 in /usr/local/lib/python3.7/dist-packages (from tensorflow->keras-rl2) (3.3.0)\n",
            "Requirement already satisfied: wrapt~=1.12.1 in /usr/local/lib/python3.7/dist-packages (from tensorflow->keras-rl2) (1.12.1)\n",
            "Requirement already satisfied: flatbuffers~=1.12.0 in /usr/local/lib/python3.7/dist-packages (from tensorflow->keras-rl2) (1.12)\n",
            "Requirement already satisfied: keras-preprocessing~=1.1.2 in /usr/local/lib/python3.7/dist-packages (from tensorflow->keras-rl2) (1.1.2)\n",
            "Requirement already satisfied: keras-nightly~=2.5.0.dev in /usr/local/lib/python3.7/dist-packages (from tensorflow->keras-rl2) (2.5.0.dev2021032900)\n",
            "Requirement already satisfied: gast==0.4.0 in /usr/local/lib/python3.7/dist-packages (from tensorflow->keras-rl2) (0.4.0)\n",
            "Requirement already satisfied: six~=1.15.0 in /usr/local/lib/python3.7/dist-packages (from tensorflow->keras-rl2) (1.15.0)\n",
            "Requirement already satisfied: typing-extensions~=3.7.4 in /usr/local/lib/python3.7/dist-packages (from tensorflow->keras-rl2) (3.7.4.3)\n",
            "Requirement already satisfied: wheel~=0.35 in /usr/local/lib/python3.7/dist-packages (from tensorflow->keras-rl2) (0.36.2)\n",
            "Requirement already satisfied: setuptools in /usr/local/lib/python3.7/dist-packages (from protobuf>=3.9.2->tensorflow->keras-rl2) (56.1.0)\n",
            "Requirement already satisfied: cached-property; python_version < \"3.8\" in /usr/local/lib/python3.7/dist-packages (from h5py~=3.1.0->tensorflow->keras-rl2) (1.5.2)\n",
            "Requirement already satisfied: requests<3,>=2.21.0 in /usr/local/lib/python3.7/dist-packages (from tensorboard~=2.5->tensorflow->keras-rl2) (2.23.0)\n",
            "Requirement already satisfied: google-auth<2,>=1.6.3 in /usr/local/lib/python3.7/dist-packages (from tensorboard~=2.5->tensorflow->keras-rl2) (1.30.0)\n",
            "Requirement already satisfied: werkzeug>=0.11.15 in /usr/local/lib/python3.7/dist-packages (from tensorboard~=2.5->tensorflow->keras-rl2) (1.0.1)\n",
            "Requirement already satisfied: tensorboard-data-server<0.7.0,>=0.6.0 in /usr/local/lib/python3.7/dist-packages (from tensorboard~=2.5->tensorflow->keras-rl2) (0.6.1)\n",
            "Requirement already satisfied: markdown>=2.6.8 in /usr/local/lib/python3.7/dist-packages (from tensorboard~=2.5->tensorflow->keras-rl2) (3.3.4)\n",
            "Requirement already satisfied: google-auth-oauthlib<0.5,>=0.4.1 in /usr/local/lib/python3.7/dist-packages (from tensorboard~=2.5->tensorflow->keras-rl2) (0.4.4)\n",
            "Requirement already satisfied: tensorboard-plugin-wit>=1.6.0 in /usr/local/lib/python3.7/dist-packages (from tensorboard~=2.5->tensorflow->keras-rl2) (1.8.0)\n",
            "Requirement already satisfied: idna<3,>=2.5 in /usr/local/lib/python3.7/dist-packages (from requests<3,>=2.21.0->tensorboard~=2.5->tensorflow->keras-rl2) (2.10)\n",
            "Requirement already satisfied: certifi>=2017.4.17 in /usr/local/lib/python3.7/dist-packages (from requests<3,>=2.21.0->tensorboard~=2.5->tensorflow->keras-rl2) (2020.12.5)\n",
            "Requirement already satisfied: chardet<4,>=3.0.2 in /usr/local/lib/python3.7/dist-packages (from requests<3,>=2.21.0->tensorboard~=2.5->tensorflow->keras-rl2) (3.0.4)\n",
            "Requirement already satisfied: urllib3!=1.25.0,!=1.25.1,<1.26,>=1.21.1 in /usr/local/lib/python3.7/dist-packages (from requests<3,>=2.21.0->tensorboard~=2.5->tensorflow->keras-rl2) (1.24.3)\n",
            "Requirement already satisfied: pyasn1-modules>=0.2.1 in /usr/local/lib/python3.7/dist-packages (from google-auth<2,>=1.6.3->tensorboard~=2.5->tensorflow->keras-rl2) (0.2.8)\n",
            "Requirement already satisfied: cachetools<5.0,>=2.0.0 in /usr/local/lib/python3.7/dist-packages (from google-auth<2,>=1.6.3->tensorboard~=2.5->tensorflow->keras-rl2) (4.2.2)\n",
            "Requirement already satisfied: rsa<5,>=3.1.4; python_version >= \"3.6\" in /usr/local/lib/python3.7/dist-packages (from google-auth<2,>=1.6.3->tensorboard~=2.5->tensorflow->keras-rl2) (4.7.2)\n",
            "Requirement already satisfied: importlib-metadata; python_version < \"3.8\" in /usr/local/lib/python3.7/dist-packages (from markdown>=2.6.8->tensorboard~=2.5->tensorflow->keras-rl2) (4.0.1)\n",
            "Requirement already satisfied: requests-oauthlib>=0.7.0 in /usr/local/lib/python3.7/dist-packages (from google-auth-oauthlib<0.5,>=0.4.1->tensorboard~=2.5->tensorflow->keras-rl2) (1.3.0)\n",
            "Requirement already satisfied: pyasn1<0.5.0,>=0.4.6 in /usr/local/lib/python3.7/dist-packages (from pyasn1-modules>=0.2.1->google-auth<2,>=1.6.3->tensorboard~=2.5->tensorflow->keras-rl2) (0.4.8)\n",
            "Requirement already satisfied: zipp>=0.5 in /usr/local/lib/python3.7/dist-packages (from importlib-metadata; python_version < \"3.8\"->markdown>=2.6.8->tensorboard~=2.5->tensorflow->keras-rl2) (3.4.1)\n",
            "Requirement already satisfied: oauthlib>=3.0.0 in /usr/local/lib/python3.7/dist-packages (from requests-oauthlib>=0.7.0->google-auth-oauthlib<0.5,>=0.4.1->tensorboard~=2.5->tensorflow->keras-rl2) (3.1.0)\n"
          ],
          "name": "stdout"
        }
      ]
    },
    {
      "cell_type": "code",
      "metadata": {
        "colab": {
          "base_uri": "https://localhost:8080/"
        },
        "id": "w4q1DDvPUpMJ",
        "outputId": "c8723229-3ecb-45e3-f998-2ce416b66e13"
      },
      "source": [
        "from gym.envs.classic_control.mountain_car import MountainCarEnv\n",
        "from rl.policy import GreedyQPolicy, EpsGreedyQPolicy, MaxBoltzmannQPolicy\n",
        "from rl.memory import SequentialMemory\n",
        "from rl.callbacks import FileLogger\n",
        "from rl.agents import DQNAgent\n",
        "import matplotlib.pyplot as plt\n",
        "import tensorflow as tf\n",
        "import tensorflow.keras as keras\n",
        "import numpy as np\n",
        "import json\n",
        "import gym\n",
        "\n",
        "print(f'tensorflow version = {tf.__version__}')\n",
        "print(tf.config.list_physical_devices('GPU'))\n",
        "print()"
      ],
      "execution_count": 6,
      "outputs": [
        {
          "output_type": "stream",
          "text": [
            "tensorflow version = 2.5.0\n",
            "[PhysicalDevice(name='/physical_device:GPU:0', device_type='GPU')]\n",
            "\n"
          ],
          "name": "stdout"
        }
      ]
    },
    {
      "cell_type": "markdown",
      "metadata": {
        "id": "TGPjW8UqbxCz"
      },
      "source": [
        "### Environment"
      ]
    },
    {
      "cell_type": "code",
      "metadata": {
        "id": "HJmvtwDCWqPz"
      },
      "source": [
        "class MountainCarWithNoiseEnv(MountainCarEnv):\n",
        "    def __init__(self, goal_velocity=0, noise_std=0):\n",
        "        super().__init__(goal_velocity)\n",
        "        self.noise_std = noise_std\n",
        "\n",
        "    def step(self, action):\n",
        "        state, reward, done, info = super().step(action)\n",
        "        \n",
        "        if self.noise_std > 0:\n",
        "            state[0] += np.random.normal(0, self.noise_std)\n",
        "            state[1] += np.random.normal(0, self.noise_std)\n",
        "        \n",
        "        return state, reward, done, info"
      ],
      "execution_count": 7,
      "outputs": []
    },
    {
      "cell_type": "markdown",
      "metadata": {
        "id": "pSb8LKbBbq-Q"
      },
      "source": [
        "### Neural Network"
      ]
    },
    {
      "cell_type": "code",
      "metadata": {
        "id": "enGe3DqlYYxc"
      },
      "source": [
        "def get_model(env):\n",
        "    model = keras.models.Sequential()\n",
        "    model.add(keras.layers.Flatten(input_shape=(1,) + env.observation_space.shape))\n",
        "    model.add(keras.layers.Dense(128, activation='relu'))\n",
        "    model.add(keras.layers.Dense(64, activation='relu'))\n",
        "    model.add(keras.layers.Dense(32, activation='relu'))\n",
        "    model.add(keras.layers.Dense(env.action_space.n))\n",
        "    \n",
        "    return model"
      ],
      "execution_count": 8,
      "outputs": []
    },
    {
      "cell_type": "markdown",
      "metadata": {
        "id": "vRyX_8qqbbxY"
      },
      "source": [
        "### Agent"
      ]
    },
    {
      "cell_type": "code",
      "metadata": {
        "id": "zpnpcayvVAKu"
      },
      "source": [
        "def run_experiment(experiment, policy, noise_std):   \n",
        "    results_file_name = get_results_file_name(experiment)\n",
        "    \n",
        "    try:\n",
        "        env = MountainCarWithNoiseEnv(noise_std=noise_std)\n",
        "        \n",
        "        env.seed(0)\n",
        "        np.random.seed(0)\n",
        "        \n",
        "        model = get_model(env)\n",
        "        \n",
        "        agent = DQNAgent(model=model,\n",
        "                         nb_actions=env.action_space.n, \n",
        "                         memory=SequentialMemory(limit=50000, window_length=1), \n",
        "                         nb_steps_warmup=50, \n",
        "                         target_model_update=1e-2, \n",
        "                         policy=policy)\n",
        "        \n",
        "        callbacks=[FileLogger(results_file_name)]\n",
        "        \n",
        "        agent.compile(keras.optimizers.Adam(lr=1e-3), metrics=['mae'])\n",
        "        agent.fit(env, nb_steps=100000, nb_max_episode_steps=200, callbacks=callbacks,\n",
        "                  visualize=False, verbose=1) # FIXME\n",
        "        \n",
        "        # input(\"Press enter to start to testing...\")\n",
        "        # agent.test(env, nb_episodes=5, visualize=True)\n",
        "    finally:\n",
        "        env.close()"
      ],
      "execution_count": 9,
      "outputs": []
    },
    {
      "cell_type": "markdown",
      "metadata": {
        "id": "7VrjxKBwcFor"
      },
      "source": [
        "### Plots"
      ]
    },
    {
      "cell_type": "code",
      "metadata": {
        "colab": {
          "base_uri": "https://localhost:8080/"
        },
        "id": "ns2x3oqLZitL",
        "outputId": "541e0163-308c-4a73-9988-1b66e9d2dd0b"
      },
      "source": [
        "from google.colab import drive\n",
        "drive.mount('/content/drive')\n",
        "\n",
        "MAIN_DIR = '/content/drive/MyDrive/'"
      ],
      "execution_count": 10,
      "outputs": [
        {
          "output_type": "stream",
          "text": [
            "Mounted at /content/drive\n"
          ],
          "name": "stdout"
        }
      ]
    },
    {
      "cell_type": "code",
      "metadata": {
        "id": "fxEZ9A1SYbZ5"
      },
      "source": [
        "def get_results_file_name(experiment):\n",
        "    return MAIN_DIR + experiment + '.json'\n",
        "\n",
        "def exponential_smoothing(x, alpha):\n",
        "    y = np.zeros_like(x)\n",
        "    \n",
        "    y[0] = x[0]\n",
        "    \n",
        "    for i in range(1, len(x)):\n",
        "        y[i] = alpha*x[i] + (1-alpha)*y[i-1]\n",
        "    \n",
        "    return y\n",
        "\n",
        "def plot_results(experiments, prefix):\n",
        "    plt.figure()\n",
        "    plt.title('Mean reward per episode')\n",
        "    plt.xlabel('Episodes')\n",
        "    plt.ylabel('Reward')\n",
        "    for experiment in experiments:\n",
        "        results_file_name = get_results_file_name(experiment)     \n",
        "        with open(results_file_name, 'r') as f:\n",
        "            results = json.load(f)\n",
        "        episodes = results['episode']\n",
        "        rewards = results['episode_reward']\n",
        "        # rewards = exponential_smoothing(rewards, 0.01) # FIXME\n",
        "        plt.plot(episodes, rewards, label=experiment)\n",
        "    if len(experiments) > 1:\n",
        "        plt.legend()\n",
        "    plt.show()\n",
        "    plt.savefig(MAIN_DIR + prefix + '_rewards.jpg')\n",
        "    \n",
        "    plt.figure()\n",
        "    plt.title('Mean Q per episode')\n",
        "    plt.xlabel('Episodes')\n",
        "    plt.ylabel('Q')\n",
        "    for experiment in experiments:\n",
        "        results_file_name = get_results_file_name(experiment)     \n",
        "        with open(results_file_name, 'r') as f:\n",
        "            results = json.load(f)\n",
        "        episodes = results['episode']\n",
        "        q = results['mean_q']\n",
        "        plt.plot(episodes, q, label=experiment)\n",
        "    if len(experiments) > 1:\n",
        "        plt.legend()\n",
        "    plt.show()\n",
        "    plt.savefig(MAIN_DIR + prefix + '_q.jpg')"
      ],
      "execution_count": 11,
      "outputs": []
    },
    {
      "cell_type": "markdown",
      "metadata": {
        "id": "1Id5p9x0a5gn"
      },
      "source": [
        "## Experiments"
      ]
    },
    {
      "cell_type": "markdown",
      "metadata": {
        "id": "DKgpGxZRc53x"
      },
      "source": [
        "### Without noise"
      ]
    },
    {
      "cell_type": "markdown",
      "metadata": {
        "id": "dQ0Cep1qa0n2"
      },
      "source": [
        "#### Greedy"
      ]
    },
    {
      "cell_type": "code",
      "metadata": {
        "colab": {
          "base_uri": "https://localhost:8080/"
        },
        "id": "62tYsFWKWL1C",
        "outputId": "f9724792-f9a0-4692-b9e6-bf79abb5352d"
      },
      "source": [
        "run_experiment('Greedy', GreedyQPolicy(), 0)"
      ],
      "execution_count": null,
      "outputs": [
        {
          "output_type": "stream",
          "text": [
            "/usr/local/lib/python3.7/dist-packages/tensorflow/python/keras/optimizer_v2/optimizer_v2.py:375: UserWarning: The `lr` argument is deprecated, use `learning_rate` instead.\n",
            "  \"The `lr` argument is deprecated, use `learning_rate` instead.\")\n"
          ],
          "name": "stderr"
        },
        {
          "output_type": "stream",
          "text": [
            "Training for 100000 steps ...\n",
            "Interval 1 (0 steps performed)\n"
          ],
          "name": "stdout"
        },
        {
          "output_type": "stream",
          "text": [
            "/usr/local/lib/python3.7/dist-packages/tensorflow/python/keras/engine/training.py:2426: UserWarning: `Model.state_updates` will be removed in a future version. This property should not be used in TensorFlow 2.0, as `updates` are applied automatically.\n",
            "  warnings.warn('`Model.state_updates` will be removed in a future version. '\n"
          ],
          "name": "stderr"
        },
        {
          "output_type": "stream",
          "text": [
            "10000/10000 [==============================] - 87s 9ms/step - reward: -1.0000\n",
            "50 episodes - episode_reward: -200.000 [-200.000, -200.000] - loss: 2.382 - mae: 19.735 - mean_q: -29.158\n",
            "\n",
            "Interval 2 (10000 steps performed)\n",
            " 4597/10000 [============>.................] - ETA: 46s - reward: -1.0000"
          ],
          "name": "stdout"
        }
      ]
    },
    {
      "cell_type": "code",
      "metadata": {
        "id": "BYmnopFWahTW"
      },
      "source": [
        "plot_results('Greedy')"
      ],
      "execution_count": null,
      "outputs": []
    },
    {
      "cell_type": "markdown",
      "metadata": {
        "id": "wDww_e2bdB1E"
      },
      "source": [
        "#### EpsGreedy eps=0.05"
      ]
    },
    {
      "cell_type": "code",
      "metadata": {
        "id": "0EypPyVbWQql"
      },
      "source": [
        "run_experiment('EpsGreedy eps=0.05', EpsGreedyQPolicy(eps=0.05), 0)"
      ],
      "execution_count": null,
      "outputs": []
    },
    {
      "cell_type": "code",
      "metadata": {
        "id": "VsZY-Wrsaj60"
      },
      "source": [
        "plot_results('EpsGreedy eps=0.05')"
      ],
      "execution_count": null,
      "outputs": []
    },
    {
      "cell_type": "markdown",
      "metadata": {
        "id": "y6wa0-todGIn"
      },
      "source": [
        "#### EpsGreedy eps=0.1"
      ]
    },
    {
      "cell_type": "code",
      "metadata": {
        "id": "1EqORF2cWRQl"
      },
      "source": [
        "run_experiment('EpsGreedy eps=0.1', EpsGreedyQPolicy(eps=0.1), 0)"
      ],
      "execution_count": null,
      "outputs": []
    },
    {
      "cell_type": "code",
      "metadata": {
        "id": "V6ai6lTNaluX"
      },
      "source": [
        "plot_results('EpsGreedy eps=0.1')"
      ],
      "execution_count": null,
      "outputs": []
    },
    {
      "cell_type": "markdown",
      "metadata": {
        "id": "YsuBrQN8dI0Y"
      },
      "source": [
        "#### EpsGreedy eps=0.2"
      ]
    },
    {
      "cell_type": "code",
      "metadata": {
        "id": "Wk70biCsWQlV"
      },
      "source": [
        "run_experiment('EpsGreedy eps=0.2', EpsGreedyQPolicy(eps=0.2), 0)"
      ],
      "execution_count": null,
      "outputs": []
    },
    {
      "cell_type": "code",
      "metadata": {
        "id": "D9FG9fFYamKm"
      },
      "source": [
        "plot_results('EpsGreedy eps=0.2')"
      ],
      "execution_count": null,
      "outputs": []
    },
    {
      "cell_type": "markdown",
      "metadata": {
        "id": "OvbX9usBdLXR"
      },
      "source": [
        "#### MaxBoltzmann eps=0.05"
      ]
    },
    {
      "cell_type": "code",
      "metadata": {
        "id": "ZwIKzZAsWQfu"
      },
      "source": [
        "run_experiment('MaxBoltzmann eps=0.05', MaxBoltzmannQPolicy(eps=0.05), 0)"
      ],
      "execution_count": null,
      "outputs": []
    },
    {
      "cell_type": "code",
      "metadata": {
        "id": "ACA_nAelam02"
      },
      "source": [
        "plot_results('MaxBoltzmann eps=0.05')"
      ],
      "execution_count": null,
      "outputs": []
    },
    {
      "cell_type": "markdown",
      "metadata": {
        "id": "hrniOHPfdQy8"
      },
      "source": [
        "#### MaxBoltzmann eps=0.1"
      ]
    },
    {
      "cell_type": "code",
      "metadata": {
        "id": "U0p4mmesWQZ_"
      },
      "source": [
        "run_experiment('MaxBoltzmann eps=0.1', MaxBoltzmannQPolicy(eps=0.1), 0)"
      ],
      "execution_count": null,
      "outputs": []
    },
    {
      "cell_type": "code",
      "metadata": {
        "id": "w24yOQbnapHH"
      },
      "source": [
        "plot_results('MaxBoltzmann eps=0.1')"
      ],
      "execution_count": null,
      "outputs": []
    },
    {
      "cell_type": "markdown",
      "metadata": {
        "id": "JYIWSzkOdVx2"
      },
      "source": [
        "#### MaxBoltzmann eps=*0.2*"
      ]
    },
    {
      "cell_type": "code",
      "metadata": {
        "id": "4xb2UIZUWQTm"
      },
      "source": [
        "run_experiment('MaxBoltzmann eps=0.2', MaxBoltzmannQPolicy(eps=0.2), 0)"
      ],
      "execution_count": null,
      "outputs": []
    },
    {
      "cell_type": "code",
      "metadata": {
        "id": "QR8zOI7iapwq"
      },
      "source": [
        "plot_results('MaxBoltzmann eps=0.2')"
      ],
      "execution_count": null,
      "outputs": []
    },
    {
      "cell_type": "markdown",
      "metadata": {
        "id": "TZ1gTzcNdaAw"
      },
      "source": [
        "#### Total Results"
      ]
    },
    {
      "cell_type": "code",
      "metadata": {
        "id": "_VaSSS93ddKN"
      },
      "source": [
        "experiments = [\n",
        "               'Greedy'\n",
        "               'EpsGreedy eps=0.05',\n",
        "               'EpsGreedy eps=0.1',\n",
        "               'EpsGreedy eps=0.2',\n",
        "               'MaxBoltzmann eps=0.05',\n",
        "               'MaxBoltzmann eps=0.1',\n",
        "               'MaxBoltzmann eps=0.2',\n",
        "               ]\n",
        "plot_results(experiments)"
      ],
      "execution_count": null,
      "outputs": []
    }
  ]
}